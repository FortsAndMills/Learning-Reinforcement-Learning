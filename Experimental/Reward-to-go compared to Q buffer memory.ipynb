{
 "cells": [
  {
   "cell_type": "code",
   "execution_count": 1,
   "metadata": {
    "ExecuteTime": {
     "end_time": "2019-02-26T16:48:05.981090Z",
     "start_time": "2019-02-26T16:48:04.748191Z"
    }
   },
   "outputs": [],
   "source": [
    "from LRL import *"
   ]
  },
  {
   "cell_type": "code",
   "execution_count": 2,
   "metadata": {
    "ExecuteTime": {
     "end_time": "2019-02-26T16:48:05.987047Z",
     "start_time": "2019-02-26T16:48:05.982049Z"
    }
   },
   "outputs": [
    {
     "data": {
      "text/plain": [
       "True"
      ]
     },
     "execution_count": 2,
     "metadata": {},
     "output_type": "execute_result"
    }
   ],
   "source": [
    "USE_CUDA"
   ]
  },
  {
   "cell_type": "code",
   "execution_count": null,
   "metadata": {},
   "outputs": [],
   "source": [
    "class MyBufferAgent(ReplayBufferAgent):  # TODO check if sumtree works faster\n",
    "    \"\"\"\n",
    "    Experimental\n",
    "    \"\"\"\n",
    "    __doc__ += ReplayBufferAgent.__doc__ \n",
    "      \n",
    "    def __init__(self, config):\n",
    "        super().__init__(config)\n",
    "        \n",
    "        self.true_reward_to_go = np.array([])\n",
    "        self.priorities = np.array([])\n",
    "        self.logger_labels[\"median weight\"] = (\"training iteration\", \"median weight\")\n",
    "\n",
    "    def memorize_transition(self, state, action, reward, next_state, done):\n",
    "        # new transition is stored with max priority\n",
    "        if len(self) < self.config.replay_buffer_capacity:\n",
    "            self.priorities = np.append(self.priorities, 1)\n",
    "            self.true_reward_to_go = np.append(self.true_reward_to_go, reward)\n",
    "        else:\n",
    "            self.priorities[self.pos] = 1\n",
    "            self.true_reward_to_go[self.pos] = reward\n",
    "            \n",
    "        super().memorize_transition(state, action, reward, next_state, done)\n",
    "\n",
    "    def sample(self, batch_size):\n",
    "        # proposed weights for sampling\n",
    "        probs  = np.array(self.priorities)\n",
    "        probs /= probs.sum()\n",
    "        \n",
    "        self.batch_indices = np.random.choice(len(self), batch_size, p=probs, replace=True)   # do not use replace = False, it makes O(n)\n",
    "        samples = [self.buffer[idx] for idx in self.batch_indices] # seems like the fastest code for sampling!\n",
    "        \n",
    "        # calculating importance sampling weights to evade bias\n",
    "        # these weights are annealed to be more like uniform at the beginning of learning\n",
    "        #weights  = (probs[self.batch_indices]) ** (-self.rp_beta_by_frame(self.frames_done))\n",
    "        # these weights are normalized as proposed in the original article to make loss function scale more stable.\n",
    "        #weights /= (probs.min()) ** (-self.rp_beta_by_frame(self.frames_done))\n",
    "       \n",
    "        states, actions, rewards, next_states, dones = zip(*samples)\n",
    "        #self.logger[\"median weight\"].append(np.median(weights))\n",
    "        return np.concatenate(states), actions, rewards, np.concatenate(next_states), dones, np.ones((batch_size))#weights\n",
    "\n",
    "    def update_priorities(self, batch_priorities):\n",
    "        \"\"\"\n",
    "        Updates priorities for previously sampled batch, indexes stored in self.batch_indices\n",
    "        input: batch_priorities - np.array, floats, (batch_size)\n",
    "        \"\"\"\n",
    "        diff = self.q_values.detach().cpu().numpy() - self.true_reward_to_go[self.batch_indices]\n",
    "        self.priorities[self.batch_indices] = 4 / (2 + np.exp(diff) + np.exp(-diff))\n",
    "        \n",
    "    def see(self, state, action, reward, next_state, done):\n",
    "        if len(self.buffer) > 0:        \n",
    "            for g in range(state.shape[0]):\n",
    "                t = (self.pos - (state.shape[0] - g)) % min(self.config.replay_buffer_capacity, len(self.buffer))\n",
    "                discount = self.config.gamma\n",
    "                while not self.buffer[t][4]:        # what if training was reset?\n",
    "                    self.true_reward_to_go[t] += discount * reward[g]\n",
    "                    discount *= self.config.gamma\n",
    "                    \n",
    "                    t = (t - self.env.num_envs) % min(self.config.replay_buffer_capacity, len(self.buffer))\n",
    "                    \n",
    "                    if (t == (self.pos - (state.shape[0] - g)) % min(self.config.replay_buffer_capacity, len(self.buffer))):\n",
    "                        break\n",
    "        \n",
    "        super().see(state, action, reward, next_state, done)\n",
    "            \n",
    "    #def write_memory(self, mem_f):\n",
    "    #    super().write_memory(mem_f)\n",
    "    #    pickle.dump(self.priorities, mem_f)\n",
    "    #    \n",
    "    #def read_memory(self, mem_f):\n",
    "    #    super().read_memory(mem_f)\n",
    "    #    self.priorities = pickle.load(mem_f)\n"
   ]
  },
  {
   "cell_type": "markdown",
   "metadata": {},
   "source": [
    "# Cartpole task"
   ]
  },
  {
   "cell_type": "code",
   "execution_count": 3,
   "metadata": {
    "ExecuteTime": {
     "end_time": "2019-02-26T16:48:06.575456Z",
     "start_time": "2019-02-26T16:48:05.988045Z"
    }
   },
   "outputs": [],
   "source": [
    "env = gym.make('CartPole-v0')"
   ]
  },
  {
   "cell_type": "code",
   "execution_count": 4,
   "metadata": {
    "ExecuteTime": {
     "end_time": "2019-02-26T16:48:06.580452Z",
     "start_time": "2019-02-26T16:48:06.576453Z"
    }
   },
   "outputs": [],
   "source": [
    "class CartpoleNN(nn.Module):\n",
    "    def __init__(self, linear):\n",
    "        super().__init__()\n",
    "        \n",
    "        self.layers = nn.Sequential(\n",
    "                        linear(4, 128),\n",
    "                        nn.ReLU(),\n",
    "                        linear(128, 128),\n",
    "                        nn.ReLU())\n",
    "        \n",
    "    def forward(self, x):\n",
    "        return self.layers(x)"
   ]
  },
  {
   "cell_type": "code",
   "execution_count": 5,
   "metadata": {
    "ExecuteTime": {
     "end_time": "2019-02-26T16:48:06.704919Z",
     "start_time": "2019-02-26T16:48:06.582451Z"
    }
   },
   "outputs": [],
   "source": [
    "config = {\n",
    "    \"env\": env,\n",
    "    \"Qnetwork_FeatureExtractor\": CartpoleNN,\n",
    "    \"QnetworkHead\": Qnetwork,\n",
    "    \"batch_size\": 32,\n",
    "    \"gamma\": 0.99,\n",
    "    \"replay_buffer_init\": 128,\n",
    "    \"replay_buffer_capacity\": 1000,\n",
    "    \"epsilon_start\": 1, \"epsilon_final\": 0.01, \"epsilon_decay\": 500\n",
    "}"
   ]
  },
  {
   "cell_type": "code",
   "execution_count": 6,
   "metadata": {
    "ExecuteTime": {
     "end_time": "2019-02-26T16:48:08.854512Z",
     "start_time": "2019-02-26T16:48:06.705909Z"
    }
   },
   "outputs": [],
   "source": [
    "agent = eGreedy((QAgent(MyBufferAgent)))(config)"
   ]
  },
  {
   "cell_type": "code",
   "execution_count": 7,
   "metadata": {
    "ExecuteTime": {
     "end_time": "2019-02-26T16:50:22.709819Z",
     "start_time": "2019-02-26T16:48:08.855516Z"
    }
   },
   "outputs": [
    {
     "data": {
      "image/png": "[encoded data removed]",
      "text/plain": [
       "<Figure size 792x576 with 3 Axes>"
      ]
     },
     "metadata": {},
     "output_type": "display_data"
    }
   ],
   "source": [
    "for i in range(100):\n",
    "    agent.learn(100)\n",
    "    plot_durations(agent, 5)    \n",
    "\n",
    "plt.show()"
   ]
  },
  {
   "cell_type": "code",
   "execution_count": 8,
   "metadata": {
    "ExecuteTime": {
     "end_time": "2019-02-26T16:50:26.453829Z",
     "start_time": "2019-02-26T16:50:26.441834Z"
    }
   },
   "outputs": [
    {
     "data": {
      "text/plain": [
       "array([13.99416454, 13.12541872, 12.2478977 , 11.36151283, 10.46617457,\n",
       "        9.5617925 ,  8.64827525,  7.72553056,  6.79346521,  5.85198506,\n",
       "        4.90099501,  3.940399  ,  2.9701    ,  1.99      ,  1.        ,\n",
       "       23.76572857, 22.99568542, 22.21786406, 21.43218592, 20.63857164,\n",
       "       19.83694105, 19.02721318, 18.20930624, 17.38313762, 16.54862385,\n",
       "       15.70568066, 14.85422289, 13.99416454, 13.12541872, 12.2478977 ,\n",
       "       11.36151283, 10.46617457,  9.5617925 ,  8.64827525,  7.72553056,\n",
       "        6.79346521,  5.85198506,  4.90099501,  3.940399  ,  2.9701    ,\n",
       "        1.99      ,  1.        , 19.02721318, 18.20930624, 17.38313762,\n",
       "       16.54862385, 15.70568066, 14.85422289, 13.99416454, 13.12541872,\n",
       "       12.2478977 , 11.36151283, 10.46617457,  9.5617925 ,  8.64827525,\n",
       "        7.72553056,  6.79346521,  5.85198506,  4.90099501,  3.940399  ,\n",
       "        2.9701    ,  1.99      ,  1.        , 19.02721318, 18.20930624,\n",
       "       17.38313762, 16.54862385, 15.70568066, 14.85422289, 13.99416454,\n",
       "       13.12541872, 12.2478977 , 11.36151283, 10.46617457,  9.5617925 ,\n",
       "        8.64827525,  7.72553056,  6.79346521,  5.85198506,  4.90099501,\n",
       "        3.940399  ,  2.9701    ,  1.99      ,  1.        , 22.99568542,\n",
       "       22.21786406, 21.43218592, 20.63857164, 19.83694105, 19.02721318,\n",
       "       18.20930624, 17.38313762, 16.54862385, 15.70568066, 14.85422289,\n",
       "       13.99416454, 13.12541872, 12.2478977 , 11.36151283, 10.46617457,\n",
       "        9.5617925 ,  8.64827525,  7.72553056,  6.79346521,  5.85198506,\n",
       "        4.90099501,  3.940399  ,  2.9701    ,  1.99      ,  1.        ,\n",
       "       28.94467727, 28.22694674, 27.5019664 , 26.76966303, 26.02996266,\n",
       "       25.28279057, 24.52807128, 23.76572857, 22.99568542, 22.21786406,\n",
       "       21.43218592, 20.63857164, 19.83694105, 19.02721318, 18.20930624,\n",
       "       17.38313762, 16.54862385, 15.70568066, 14.85422289, 13.99416454,\n",
       "       13.12541872, 12.2478977 , 11.36151283, 10.46617457,  9.5617925 ,\n",
       "        8.64827525,  7.72553056,  6.79346521,  5.85198506,  4.90099501,\n",
       "        3.940399  ,  2.9701    ,  1.99      ,  1.        , 27.5019664 ,\n",
       "       26.76966303, 26.02996266, 25.28279057, 24.52807128, 23.76572857,\n",
       "       22.99568542, 22.21786406, 21.43218592, 20.63857164, 19.83694105,\n",
       "       19.02721318, 18.20930624, 17.38313762, 16.54862385, 15.70568066,\n",
       "       14.85422289, 13.99416454, 13.12541872, 12.2478977 , 11.36151283,\n",
       "       10.46617457,  9.5617925 ,  8.64827525,  7.72553056,  6.79346521,\n",
       "        5.85198506,  4.90099501,  3.940399  ,  2.9701    ,  1.99      ,\n",
       "        1.        , 35.08973716, 34.43407794, 33.7717959 , 33.10282414,\n",
       "       32.42709509, 31.7445405 , 31.05509141, 30.3586782 , 29.6552305 ,\n",
       "       28.94467727, 28.22694674, 27.5019664 , 26.76966303, 26.02996266,\n",
       "       25.28279057, 24.52807128, 23.76572857, 22.99568542, 22.21786406,\n",
       "       21.43218592, 20.63857164, 19.83694105, 19.02721318, 18.20930624,\n",
       "       17.38313762, 16.54862385, 15.70568066, 14.85422289, 13.99416454,\n",
       "       13.12541872, 12.2478977 , 11.36151283, 10.46617457,  9.5617925 ,\n",
       "        8.64827525,  7.72553056,  6.79346521,  5.85198506,  4.90099501,\n",
       "        3.940399  ,  2.9701    ,  1.99      ,  1.        , 39.49939329,\n",
       "       38.88827605, 38.27098591, 37.64746051, 37.01763688, 36.38145139,\n",
       "       35.73883979, 35.08973716, 34.43407794, 33.7717959 , 33.10282414,\n",
       "       32.42709509, 31.7445405 , 31.05509141, 30.3586782 , 29.6552305 ,\n",
       "       28.94467727, 28.22694674, 27.5019664 , 26.76966303, 26.02996266,\n",
       "       25.28279057, 24.52807128, 23.76572857, 22.99568542, 22.21786406,\n",
       "       21.43218592, 20.63857164, 19.83694105, 19.02721318, 18.20930624,\n",
       "       17.38313762, 16.54862385, 15.70568066, 14.85422289, 13.99416454,\n",
       "       13.12541872, 12.2478977 , 11.36151283, 10.46617457,  9.5617925 ,\n",
       "        8.64827525,  7.72553056,  6.79346521,  5.85198506,  4.90099501,\n",
       "        3.940399  ,  2.9701    ,  1.99      ,  1.        , 51.0109727 ,\n",
       "       50.51613404, 50.01629701, 49.51141112, 49.00142538, 48.48628826,\n",
       "       47.96594773, 47.44035125, 46.9094457 , 46.37317748, 45.8314924 ,\n",
       "       45.28433576, 44.73165228, 44.17338615, 43.60948095, 43.03987975,\n",
       "       42.464525  , 41.88335859, 41.29632181, 40.70335536, 40.10439935,\n",
       "       39.49939329, 38.88827605, 38.27098591, 37.64746051, 37.01763688,\n",
       "       36.38145139, 35.73883979, 35.08973716, 34.43407794, 33.7717959 ,\n",
       "       33.10282414, 32.42709509, 31.7445405 , 31.05509141, 30.3586782 ,\n",
       "       29.6552305 , 28.94467727, 28.22694674, 27.5019664 , 26.76966303,\n",
       "       26.02996266, 25.28279057, 24.52807128, 23.76572857, 22.99568542,\n",
       "       22.21786406, 21.43218592, 20.63857164, 19.83694105, 19.02721318,\n",
       "       18.20930624, 17.38313762, 16.54862385, 15.70568066, 14.85422289,\n",
       "       13.99416454, 13.12541872, 12.2478977 , 11.36151283, 10.46617457,\n",
       "        9.5617925 ,  8.64827525,  7.72553056,  6.79346521,  5.85198506,\n",
       "        4.90099501,  3.940399  ,  2.9701    ,  1.99      ,  1.        ,\n",
       "       52.94133584, 52.4659958 , 51.98585434, 51.50086297, 51.0109727 ,\n",
       "       50.51613404, 50.01629701, 49.51141112, 49.00142538, 48.48628826,\n",
       "       47.96594773, 47.44035125, 46.9094457 , 46.37317748, 45.8314924 ,\n",
       "       45.28433576, 44.73165228, 44.17338615, 43.60948095, 43.03987975,\n",
       "       42.464525  , 41.88335859, 41.29632181, 40.70335536, 40.10439935,\n",
       "       39.49939329, 38.88827605, 38.27098591, 37.64746051, 37.01763688,\n",
       "       36.38145139, 35.73883979, 35.08973716, 34.43407794, 33.7717959 ,\n",
       "       33.10282414, 32.42709509, 31.7445405 , 31.05509141, 30.3586782 ,\n",
       "       29.6552305 , 28.94467727, 28.22694674, 27.5019664 , 26.76966303,\n",
       "       26.02996266, 25.28279057, 24.52807128, 23.76572857, 22.99568542,\n",
       "       22.21786406, 21.43218592, 20.63857164, 19.83694105, 19.02721318,\n",
       "       18.20930624, 17.38313762, 16.54862385, 15.70568066, 14.85422289,\n",
       "       13.99416454, 13.12541872, 12.2478977 , 11.36151283, 10.46617457,\n",
       "        9.5617925 ,  8.64827525,  7.72553056,  6.79346521,  5.85198506,\n",
       "        4.90099501,  3.940399  ,  2.9701    ,  1.99      ,  1.        ,\n",
       "       27.5019664 , 26.76966303, 26.02996266, 25.28279057, 24.52807128,\n",
       "       23.76572857, 22.99568542, 22.21786406, 21.43218592, 20.63857164,\n",
       "       19.83694105, 19.02721318, 18.20930624, 17.38313762, 16.54862385,\n",
       "       15.70568066, 14.85422289, 13.99416454, 13.12541872, 12.2478977 ,\n",
       "       11.36151283, 10.46617457,  9.5617925 ,  8.64827525,  7.72553056,\n",
       "        6.79346521,  5.85198506,  4.90099501,  3.940399  ,  2.9701    ,\n",
       "        1.99      ,  1.        , 51.0109727 , 50.51613404, 50.01629701,\n",
       "       49.51141112, 49.00142538, 48.48628826, 47.96594773, 47.44035125,\n",
       "       46.9094457 , 46.37317748, 45.8314924 , 45.28433576, 44.73165228,\n",
       "       44.17338615, 43.60948095, 43.03987975, 42.464525  , 41.88335859,\n",
       "       41.29632181, 40.70335536, 40.10439935, 39.49939329, 38.88827605,\n",
       "       38.27098591, 37.64746051, 37.01763688, 36.38145139, 35.73883979,\n",
       "       35.08973716, 34.43407794, 33.7717959 , 33.10282414, 32.42709509,\n",
       "       31.7445405 , 31.05509141, 30.3586782 , 29.6552305 , 28.94467727,\n",
       "       28.22694674, 27.5019664 , 26.76966303, 26.02996266, 25.28279057,\n",
       "       24.52807128, 23.76572857, 22.99568542, 22.21786406, 21.43218592,\n",
       "       20.63857164, 19.83694105, 19.02721318, 18.20930624, 17.38313762,\n",
       "       16.54862385, 15.70568066, 14.85422289, 13.99416454, 13.12541872,\n",
       "       12.2478977 , 11.36151283, 10.46617457,  9.5617925 ,  8.64827525,\n",
       "        7.72553056,  6.79346521,  5.85198506,  4.90099501,  3.940399  ,\n",
       "        2.9701    ,  1.99      ,  1.        , 38.88827605, 38.27098591,\n",
       "       37.64746051, 37.01763688, 36.38145139, 35.73883979, 35.08973716,\n",
       "       34.43407794, 33.7717959 , 33.10282414, 32.42709509, 31.7445405 ,\n",
       "       31.05509141, 30.3586782 , 29.6552305 , 28.94467727, 28.22694674,\n",
       "       27.5019664 , 26.76966303, 26.02996266, 25.28279057, 24.52807128,\n",
       "       23.76572857, 22.99568542, 22.21786406, 21.43218592, 20.63857164,\n",
       "       19.83694105, 19.02721318, 18.20930624, 17.38313762, 16.54862385,\n",
       "       15.70568066, 14.85422289, 13.99416454, 13.12541872, 12.2478977 ,\n",
       "       11.36151283, 10.46617457,  9.5617925 ,  8.64827525,  7.72553056,\n",
       "        6.79346521,  5.85198506,  4.90099501,  3.940399  ,  2.9701    ,\n",
       "        1.99      ,  1.        , 36.38145139, 35.73883979, 35.08973716,\n",
       "       34.43407794, 33.7717959 , 33.10282414, 32.42709509, 31.7445405 ,\n",
       "       31.05509141, 30.3586782 , 29.6552305 , 28.94467727, 28.22694674,\n",
       "       27.5019664 , 26.76966303, 26.02996266, 25.28279057, 24.52807128,\n",
       "       23.76572857, 22.99568542, 22.21786406, 21.43218592, 20.63857164,\n",
       "       19.83694105, 19.02721318, 18.20930624, 17.38313762, 16.54862385,\n",
       "       15.70568066, 14.85422289, 13.99416454, 13.12541872, 12.2478977 ,\n",
       "       11.36151283, 10.46617457,  9.5617925 ,  8.64827525,  7.72553056,\n",
       "        6.79346521,  5.85198506,  4.90099501,  3.940399  ,  2.9701    ,\n",
       "        1.99      ,  1.        , 36.38145139, 35.73883979, 35.08973716,\n",
       "       34.43407794, 33.7717959 , 33.10282414, 32.42709509, 31.7445405 ,\n",
       "       31.05509141, 30.3586782 , 29.6552305 , 28.94467727, 28.22694674,\n",
       "       27.5019664 , 26.76966303, 26.02996266, 25.28279057, 24.52807128,\n",
       "       23.76572857, 22.99568542, 22.21786406, 21.43218592, 20.63857164,\n",
       "       19.83694105, 19.02721318, 18.20930624, 17.38313762, 16.54862385,\n",
       "       15.70568066, 14.85422289, 13.99416454, 13.12541872, 12.2478977 ,\n",
       "       11.36151283, 10.46617457,  9.5617925 ,  8.64827525,  7.72553056,\n",
       "        6.79346521,  5.85198506,  4.90099501,  3.940399  ,  2.9701    ,\n",
       "        1.99      ,  1.        , 43.03987975, 42.464525  , 41.88335859,\n",
       "       41.29632181, 40.70335536, 40.10439935, 39.49939329, 38.88827605,\n",
       "       38.27098591, 37.64746051, 37.01763688, 36.38145139, 35.73883979,\n",
       "       35.08973716, 34.43407794, 33.7717959 , 33.10282414, 32.42709509,\n",
       "       31.7445405 , 31.05509141, 30.3586782 , 29.6552305 , 28.94467727,\n",
       "       28.22694674, 27.5019664 , 26.76966303, 26.02996266, 25.28279057,\n",
       "       24.52807128, 23.76572857, 22.99568542, 22.21786406, 21.43218592,\n",
       "       20.63857164, 19.83694105, 19.02721318, 18.20930624, 17.38313762,\n",
       "       16.54862385, 15.70568066, 14.85422289, 13.99416454, 13.12541872,\n",
       "       12.2478977 , 11.36151283, 10.46617457,  9.5617925 ,  8.64827525,\n",
       "        7.72553056,  6.79346521,  5.85198506,  4.90099501,  3.940399  ,\n",
       "        2.9701    ,  1.99      ,  1.        , 41.29632181, 40.70335536,\n",
       "       40.10439935, 39.49939329, 38.88827605, 38.27098591, 37.64746051,\n",
       "       37.01763688, 36.38145139, 35.73883979, 35.08973716, 34.43407794,\n",
       "       33.7717959 , 33.10282414, 32.42709509, 31.7445405 , 31.05509141,\n",
       "       30.3586782 , 29.6552305 , 28.94467727, 28.22694674, 27.5019664 ,\n",
       "       26.76966303, 26.02996266, 25.28279057, 24.52807128, 23.76572857,\n",
       "       22.99568542, 22.21786406, 21.43218592, 20.63857164, 19.83694105,\n",
       "       19.02721318, 18.20930624, 17.38313762, 16.54862385, 15.70568066,\n",
       "       14.85422289, 13.99416454, 13.12541872, 12.2478977 , 11.36151283,\n",
       "       10.46617457,  9.5617925 ,  8.64827525,  7.72553056,  6.79346521,\n",
       "        5.85198506,  4.90099501,  3.940399  ,  2.9701    ,  1.99      ,\n",
       "        1.        , 47.44035125, 46.9094457 , 46.37317748, 45.8314924 ,\n",
       "       45.28433576, 44.73165228, 44.17338615, 43.60948095, 43.03987975,\n",
       "       42.464525  , 41.88335859, 41.29632181, 40.70335536, 40.10439935,\n",
       "       39.49939329, 38.88827605, 38.27098591, 37.64746051, 37.01763688,\n",
       "       36.38145139, 35.73883979, 35.08973716, 34.43407794, 33.7717959 ,\n",
       "       33.10282414, 32.42709509, 31.7445405 , 31.05509141, 30.3586782 ,\n",
       "       29.6552305 , 28.94467727, 28.22694674, 27.5019664 , 26.76966303,\n",
       "       26.02996266, 25.28279057, 24.52807128, 23.76572857, 22.99568542,\n",
       "       22.21786406, 21.43218592, 20.63857164, 19.83694105, 19.02721318,\n",
       "       18.20930624, 17.38313762, 16.54862385, 15.70568066, 14.85422289,\n",
       "       13.99416454, 13.12541872, 12.2478977 , 11.36151283, 10.46617457,\n",
       "        9.5617925 ,  8.64827525,  7.72553056,  6.79346521,  5.85198506,\n",
       "        4.90099501,  3.940399  ,  2.9701    ,  1.99      ,  1.        ,\n",
       "       40.10439935, 39.49939329, 38.88827605, 38.27098591, 37.64746051,\n",
       "       37.01763688, 36.38145139, 35.73883979, 35.08973716, 34.43407794,\n",
       "       33.7717959 , 33.10282414, 32.42709509, 31.7445405 , 31.05509141,\n",
       "       30.3586782 , 29.6552305 , 28.94467727, 28.22694674, 27.5019664 ,\n",
       "       26.76966303, 26.02996266, 25.28279057, 24.52807128, 23.76572857,\n",
       "       22.99568542, 22.21786406, 21.43218592, 20.63857164, 19.83694105,\n",
       "       19.02721318, 18.20930624, 17.38313762, 16.54862385, 15.70568066,\n",
       "       14.85422289, 13.99416454, 13.12541872, 12.2478977 , 11.36151283,\n",
       "       10.46617457,  9.5617925 ,  8.64827525,  7.72553056,  6.79346521,\n",
       "        5.85198506,  4.90099501,  3.940399  ,  2.9701    ,  1.99      ,\n",
       "        1.        , 47.96594773, 47.44035125, 46.9094457 , 46.37317748,\n",
       "       45.8314924 , 45.28433576, 44.73165228, 44.17338615, 43.60948095,\n",
       "       43.03987975, 42.464525  , 41.88335859, 41.29632181, 40.70335536,\n",
       "       40.10439935, 39.49939329, 38.88827605, 38.27098591, 37.64746051,\n",
       "       37.01763688, 36.38145139, 35.73883979, 35.08973716, 34.43407794,\n",
       "       33.7717959 , 33.10282414, 32.42709509, 31.7445405 , 31.05509141,\n",
       "       30.3586782 , 29.6552305 , 28.94467727, 28.22694674, 27.5019664 ,\n",
       "       26.76966303, 26.02996266, 25.28279057, 24.52807128, 23.76572857,\n",
       "       22.99568542, 22.21786406, 21.43218592, 20.63857164, 19.83694105,\n",
       "       19.02721318, 18.20930624, 17.38313762, 16.54862385, 15.70568066,\n",
       "       14.85422289, 13.99416454, 13.12541872, 12.2478977 , 11.36151283,\n",
       "       10.46617457,  9.5617925 ,  8.64827525,  7.72553056,  6.79346521,\n",
       "        5.85198506,  4.90099501,  3.940399  ,  2.9701    ,  1.99      ,\n",
       "        1.        , 38.88827605, 38.27098591, 37.64746051, 37.01763688,\n",
       "       36.38145139, 35.73883979, 35.08973716, 34.43407794, 33.7717959 ,\n",
       "       33.10282414, 32.42709509, 31.7445405 , 31.05509141, 30.3586782 ,\n",
       "       29.6552305 , 28.94467727, 28.22694674, 27.5019664 , 26.76966303,\n",
       "       26.02996266, 25.28279057, 24.52807128, 23.76572857, 22.99568542,\n",
       "       22.21786406, 21.43218592, 20.63857164, 19.83694105, 19.02721318,\n",
       "       18.20930624, 17.38313762, 16.54862385, 15.70568066, 14.85422289,\n",
       "       13.99416454, 13.12541872, 12.2478977 , 11.36151283, 10.46617457,\n",
       "        9.5617925 ,  8.64827525,  7.72553056,  6.79346521,  5.85198506,\n",
       "        4.90099501,  3.940399  ,  2.9701    ,  1.99      ,  1.        ,\n",
       "        4.90099501,  3.940399  ,  2.9701    ,  1.99      ,  1.        ])"
      ]
     },
     "execution_count": 8,
     "metadata": {},
     "output_type": "execute_result"
    }
   ],
   "source": [
    "agent.true_reward_to_go"
   ]
  },
  {
   "cell_type": "code",
   "execution_count": 10,
   "metadata": {
    "ExecuteTime": {
     "end_time": "2019-02-26T16:51:11.061288Z",
     "start_time": "2019-02-26T16:51:11.057290Z"
    }
   },
   "outputs": [
    {
     "data": {
      "text/plain": [
       "8.757964480156327e-10"
      ]
     },
     "execution_count": 10,
     "metadata": {},
     "output_type": "execute_result"
    }
   ],
   "source": [
    "agent.priorities.max()"
   ]
  },
  {
   "cell_type": "code",
   "execution_count": null,
   "metadata": {},
   "outputs": [],
   "source": []
  }
 ],
 "metadata": {
  "kernelspec": {
   "display_name": "Python 3",
   "language": "python",
   "name": "python3"
  },
  "language_info": {
   "codemirror_mode": {
    "name": "ipython",
    "version": 3
   },
   "file_extension": ".py",
   "mimetype": "text/x-python",
   "name": "python",
   "nbconvert_exporter": "python",
   "pygments_lexer": "ipython3",
   "version": "3.6.6"
  },
  "latex_envs": {
   "LaTeX_envs_menu_present": true,
   "autoclose": false,
   "autocomplete": true,
   "bibliofile": "biblio.bib",
   "cite_by": "apalike",
   "current_citInitial": 1,
   "eqLabelWithNumbers": true,
   "eqNumInitial": 1,
   "hotkeys": {
    "equation": "Ctrl-E",
    "itemize": "Ctrl-I"
   },
   "labels_anchors": false,
   "latex_user_defs": false,
   "report_style_numbering": false,
   "user_envs_cfg": false
  },
  "notify_time": "10"
 },
 "nbformat": 4,
 "nbformat_minor": 1
}
