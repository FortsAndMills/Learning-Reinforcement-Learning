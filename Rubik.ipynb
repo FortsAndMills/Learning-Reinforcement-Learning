{
 "cells": [
  {
   "cell_type": "code",
   "execution_count": 1,
   "metadata": {},
   "outputs": [],
   "source": [
    "from LRL import *"
   ]
  },
  {
   "cell_type": "markdown",
   "metadata": {},
   "source": [
    "## Environment"
   ]
  },
  {
   "cell_type": "code",
   "execution_count": 2,
   "metadata": {},
   "outputs": [],
   "source": [
    "import gym"
   ]
  },
  {
   "cell_type": "markdown",
   "metadata": {},
   "source": [
    "Для использования $V$-функции вместо $Q$-функции понадобилась необходимость \"в торче\" искать все возможные следующие состояния для батча кубиков, поэтому пришлось писать вспомогательный класс:"
   ]
  },
  {
   "cell_type": "code",
   "execution_count": 3,
   "metadata": {},
   "outputs": [],
   "source": [
    "class BatchOfRubiks:\n",
    "    def __init__(self, groups):\n",
    "        self.group = groups\n",
    "        \n",
    "    def forward_cycle(self, a, b, c, d):\n",
    "        self.group[:, a-1], self.group[:, b-1], self.group[:, c-1], self.group[:, d-1] = \\\n",
    "        self.group[:, d-1].clone(), self.group[:, a-1].clone(), self.group[:, b-1].clone(), self.group[:, c-1].clone()\n",
    "        return self\n",
    "    \n",
    "    def backward_cycle(self, a, b, c, d):\n",
    "        self.group[:, a-1], self.group[:, b-1], self.group[:, c-1], self.group[:, d-1] = \\\n",
    "        self.group[:, b-1].clone(), self.group[:, c-1].clone(), self.group[:, d-1].clone(), self.group[:, a-1].clone()\n",
    "        return self\n",
    "\n",
    "    def rotate(self, command):\n",
    "        self.cycle = self.forward_cycle if command < 6 else self.backward_cycle\n",
    "        command = command % 6\n",
    "        \n",
    "        if command == 0:\n",
    "            self.cycle(1,3,8,6).cycle(2,5,7,4).cycle(33,9,41,32).cycle(36,12,44,29).cycle(38,14,46,27)\n",
    "        elif command == 1:\n",
    "            self.cycle(9,11,16,14).cycle(10,13,15,12).cycle(38,17,43,8).cycle(39,20,42,5).cycle(40,22,41,3)\n",
    "        elif command == 2:\n",
    "            self.cycle(17,19,24,22).cycle(18,21,23,20).cycle(48,16,40,25).cycle(45,13,37,28).cycle(43,11,35,30)\n",
    "        elif command == 3:\n",
    "            self.cycle(25,27,32,30).cycle(26,29,31,28).cycle(19,33,6,48).cycle(21,34,4,47).cycle(24,35,1,46)\n",
    "        elif command == 4:\n",
    "            self.cycle(33,35,40,38).cycle(34,37,39,36).cycle(25,17,9,1).cycle(26,18,10,2).cycle(27,19,11,3)\n",
    "        elif command == 5:\n",
    "            self.cycle(41,43,48,46).cycle(42,45,47,44).cycle(6,14,22,30).cycle(7,15,23,31).cycle(8,16,24,32)\n",
    "        return self\n",
    "\n",
    "def next_states(states):\n",
    "    ns = torch.cat([BatchOfRubiks(states.clone()).rotate(i).group[:, None] for i in range(12)], dim=1)\n",
    "    done = ((ns != Tensor([0]*8 + [1]*8 + [2]*8 + [3]*8 + [4]*8 + [5]*8)).sum(dim=2) > 0).type(torch.cuda.FloatTensor)\n",
    "    return ns, Tensor(states.size()[0], 12).zero_() - 1, 1 - done"
   ]
  },
  {
   "cell_type": "markdown",
   "metadata": {},
   "source": [
    "Сама среда. Награда: -1 всегда.\n",
    "* complexity: сколько раз к собранному кубику применяется рандомное действие при ресете.\n",
    "* limit: после такого числа ходов агент \"умирает\", однако при обучении флаг done агенту НЕ выдаётся, так как это не конечное состояние \"на самом деле\"."
   ]
  },
  {
   "cell_type": "code",
   "execution_count": 4,
   "metadata": {},
   "outputs": [],
   "source": [
    "class Rubik:\n",
    "    def __init__(self, complexity=1, limit=50):\n",
    "        self.complexity = complexity\n",
    "        self.limit = limit\n",
    "        self.action_space = gym.spaces.Discrete(12)\n",
    "        self.init_state = [0]*8 + [1]*8 + [2]*8 + [3]*8 + [4]*8 + [5]*8\n",
    "        self.steps = 0\n",
    "        self.next_states_function = next_states\n",
    "        self.reset()\n",
    "    \n",
    "    def reset(self):\n",
    "        self.group = self.init_state[:]\n",
    "        \n",
    "        while self.group == self.init_state:\n",
    "            for _ in range(self.complexity):\n",
    "                self.step(np.random.randint(0, 12))\n",
    "        \n",
    "        self.steps = 0\n",
    "        return self.group\n",
    "    \n",
    "    def forward_cycle(self, a, b, c, d):\n",
    "        self.group[a-1], self.group[b-1], self.group[c-1], self.group[d-1] = self.group[d-1], self.group[a-1], self.group[b-1], self.group[c-1]\n",
    "        return self\n",
    "    \n",
    "    def backward_cycle(self, a, b, c, d):\n",
    "        self.group[a-1], self.group[b-1], self.group[c-1], self.group[d-1] = self.group[b-1], self.group[c-1], self.group[d-1], self.group[a-1]\n",
    "        return self\n",
    "        \n",
    "    def rotate(self, command):\n",
    "        # решения через циклические сдвиги в двумерном массиве без нумпая привели к экспоненциальному росту костылей в коде.\n",
    "        # кажется, это наиболее лаконичный и бескровный вариант\n",
    "        if command == 0:\n",
    "            self.cycle(1,3,8,6).cycle(2,5,7,4).cycle(33,9,41,32).cycle(36,12,44,29).cycle(38,14,46,27)\n",
    "        elif command == 1:\n",
    "            self.cycle(9,11,16,14).cycle(10,13,15,12).cycle(38,17,43,8).cycle(39,20,42,5).cycle(40,22,41,3)\n",
    "        elif command == 2:\n",
    "            self.cycle(17,19,24,22).cycle(18,21,23,20).cycle(48,16,40,25).cycle(45,13,37,28).cycle(43,11,35,30)\n",
    "        elif command == 3:\n",
    "            self.cycle(25,27,32,30).cycle(26,29,31,28).cycle(19,33,6,48).cycle(21,34,4,47).cycle(24,35,1,46)\n",
    "        elif command == 4:\n",
    "            self.cycle(33,35,40,38).cycle(34,37,39,36).cycle(25,17,9,1).cycle(26,18,10,2).cycle(27,19,11,3)\n",
    "        elif command == 5:\n",
    "            self.cycle(41,43,48,46).cycle(42,45,47,44).cycle(6,14,22,30).cycle(7,15,23,31).cycle(8,16,24,32)\n",
    "    \n",
    "    def step(self, command):\n",
    "        self.cycle = self.forward_cycle if command < 6 else self.backward_cycle\n",
    "        self.rotate(command % 6)\n",
    "        \n",
    "        self.steps += 1        \n",
    "        done = self.group == self.init_state\n",
    "        died = self.steps > self.limit\n",
    "        return self.group, -1, done, {\"died\": died}\n",
    "                \n",
    "    def __str__(self):\n",
    "        return '.'*3 + ''.join(map(str, self.group[32:35])) + '.'*6 + '\\n' +\\\n",
    "               '.'*3 + str(self.group[35]) + 'U' + str(self.group[36]) + '.'*6 + '\\n' +\\\n",
    "               '.'*3 + ''.join(map(str, self.group[37:40])) + '.'*6 + '\\n' +\\\n",
    "               ''.join(map(str, self.group[0:3] + self.group[8:11] + self.group[16:19] + self.group[24:27])) + '\\n' +\\\n",
    "               str(self.group[3]) + 'L' + str(self.group[4]) + str(self.group[11]) + 'F' + str(self.group[12]) + str(self.group[19]) + 'R' + str(self.group[20]) + str(self.group[27]) + 'B' + str(self.group[28]) + '\\n' +\\\n",
    "               ''.join(map(str, self.group[5:8] + self.group[13:16] + self.group[21:24] + self.group[29:32])) + '\\n' +\\\n",
    "               '.'*3 + ''.join(map(str, self.group[40:43])) + '.'*6 + '\\n' +\\\n",
    "               '.'*3 + str(self.group[43]) + 'D' + str(self.group[44]) + '.'*6 + '\\n' +\\\n",
    "               '.'*3 + ''.join(map(str, self.group[45:48])) + '.'*6 + '\\n'"
   ]
  },
  {
   "cell_type": "code",
   "execution_count": 5,
   "metadata": {},
   "outputs": [
    {
     "name": "stderr",
     "output_type": "stream",
     "text": [
      "c:\\windows\\system32\\gym\\gym\\__init__.py:22: UserWarning: DEPRECATION WARNING: to improve load times, gym no longer automatically loads gym.spaces. Please run \"import gym.spaces\" to load gym.spaces on your own. This warning will turn into an error in a future version of gym.\n",
      "  warnings.warn('DEPRECATION WARNING: to improve load times, gym no longer automatically loads gym.spaces. Please run \"import gym.spaces\" to load gym.spaces on your own. This warning will turn into an error in a future version of gym.')\n"
     ]
    }
   ],
   "source": [
    "rubik = Rubik()"
   ]
  },
  {
   "cell_type": "code",
   "execution_count": 6,
   "metadata": {},
   "outputs": [
    {
     "name": "stdout",
     "output_type": "stream",
     "text": [
      "...000......\n",
      "...4U4......\n",
      "...444......\n",
      "500111224333\n",
      "5L01F12R43B3\n",
      "500111224333\n",
      "...555......\n",
      "...5D5......\n",
      "...222......\n",
      "\n"
     ]
    }
   ],
   "source": [
    "print(rubik)"
   ]
  },
  {
   "cell_type": "markdown",
   "metadata": {},
   "source": [
    "# Сеть"
   ]
  },
  {
   "cell_type": "markdown",
   "metadata": {},
   "source": [
    "Возможная причина проблем --- неадекватность модели. Простая полносвязная сеть не очень видит кучу нетривиальных инвариантов, творящихся в данных, тем более зашумлённых. Было решено найти все 24 инварианта текущей конфигурации кубика. Для этого кровью и потом был вычислен тензор 24 х 48, получающий все конфигурации"
   ]
  },
  {
   "cell_type": "code",
   "execution_count": 7,
   "metadata": {},
   "outputs": [
    {
     "data": {
      "text/plain": [
       "torch.Size([24, 48, 48])"
      ]
     },
     "execution_count": 7,
     "metadata": {},
     "output_type": "execute_result"
    }
   ],
   "source": [
    "INVARIANTS = Tensor(np.load(\"RubikInvariantsMatrix.npy\"))\n",
    "INVARIANTS.shape"
   ]
  },
  {
   "cell_type": "markdown",
   "metadata": {},
   "source": [
    "А one_hot кодировки для 6 цветов не оказалось в дефолтных функций пайторча."
   ]
  },
  {
   "cell_type": "code",
   "execution_count": 8,
   "metadata": {},
   "outputs": [],
   "source": [
    "def one_hot(x, nb_digits):\n",
    "    x_onehot = Tensor(x.size()[0]*x.size()[1], nb_digits)\n",
    "    x_onehot.zero_()\n",
    "    x_onehot.scatter_(1, x.view(-1, 1).type(torch.cuda.LongTensor), 1)\n",
    "    return x_onehot.view(x.size()[0], x.size()[1], nb_digits)"
   ]
  },
  {
   "cell_type": "markdown",
   "metadata": {},
   "source": [
    "Сама сеть. Для каждой конфигурации выдаём 100 фич. По конфигурациям из этих фич берём максимум, дальше небольшой полносвязник. \"Крышка\" (выдающая всего одно число - value состояния) будет добавлена моей библиотечечкой LRL."
   ]
  },
  {
   "cell_type": "code",
   "execution_count": 42,
   "metadata": {},
   "outputs": [],
   "source": [
    "class ValueNet(nn.Module):\n",
    "    def __init__(self, linear):\n",
    "        super(ValueNet, self).__init__()\n",
    "        \n",
    "        self.invariantial = nn.Sequential(\n",
    "            nn.Linear(48*6, 300),\n",
    "            nn.ReLU(),\n",
    "            nn.Linear(300, 200),\n",
    "            nn.ReLU(),\n",
    "            nn.Linear(200, 100),\n",
    "            nn.ReLU()\n",
    "        )\n",
    "        \n",
    "        self.fc = nn.Sequential(\n",
    "            linear(100, 120),\n",
    "            nn.ReLU(),\n",
    "            linear(120, 80),\n",
    "            nn.ReLU()\n",
    "        )\n",
    "\n",
    "    def forward(self, x):\n",
    "        x = INVARIANTS.matmul(x.transpose(0, 1)).permute(2, 0, 1).contiguous().view(-1, 48)\n",
    "        x = one_hot(x, 6).view(-1, 48*6)\n",
    "        x = self.invariantial(x).view(-1, 24, 100)\n",
    "        x = x.max(dim=1)[0]\n",
    "        return self.fc(x)"
   ]
  },
  {
   "cell_type": "markdown",
   "metadata": {},
   "source": [
    "# Agent"
   ]
  },
  {
   "cell_type": "code",
   "execution_count": 81,
   "metadata": {},
   "outputs": [],
   "source": [
    "def VAgent(parclass):\n",
    "    \"\"\"Requires parent class, inherited from Agent.\"\"\"\n",
    "\n",
    "    class VAgent(parclass):\n",
    "        __doc__ += parclass.__doc__\n",
    "        \n",
    "        def get_loss(self, y, guess):\n",
    "            return F.smooth_l1_loss(guess, y, reduction=\"none\")\n",
    "\n",
    "        def optimize_model(self):\n",
    "            '''One step of Q-network optimization'''\n",
    "            if len(self) < self.replay_buffer_init:\n",
    "                return\n",
    "\n",
    "            state_b, action_b, reward_b, next_state_b, done_b, weights_b = self.sample(self.batch_size)\n",
    "\n",
    "            state_b      = Tensor(np.float32(state_b))\n",
    "            next_state_b = Tensor(np.float32(next_state_b))\n",
    "            action_b     = LongTensor(action_b)\n",
    "            reward_b     = Tensor(reward_b)\n",
    "            done_b       = Tensor(done_b)\n",
    "            weights_b    = Tensor(weights_b)\n",
    "\n",
    "            self.policy_net.train()\n",
    "            q_values      = self.policy_net.gather(self.policy_net(state_b), action_b)\n",
    "            with torch.no_grad():\n",
    "                target_q_values = self.batch_target(reward_b, next_state_b, done_b)\n",
    "            \n",
    "            #with torch.no_grad():\n",
    "            #    values_of_state_target = self.estimate_next_state(state_b) - 1\n",
    "            #values = self.policy_net.head(self.policy_net.feature_extractor_net(state_b)).squeeze(1)\n",
    "            \n",
    "            loss_b = self.get_loss(target_q_values, q_values)\n",
    "            #loss_b = loss_b + self.get_loss(values_of_state_target, values)\n",
    "            self.update_priorities(self.get_transition_importance(loss_b).detach().cpu().numpy())\n",
    "\n",
    "            loss = (loss_b * weights_b).mean()\n",
    "            self.loss_log.append(loss.detach().cpu().numpy())\n",
    "\n",
    "            self.optimizer.zero_grad()\n",
    "            loss.backward()\n",
    "            self.optimizer.step()\n",
    "    return VAgent"
   ]
  },
  {
   "cell_type": "code",
   "execution_count": 98,
   "metadata": {},
   "outputs": [],
   "source": [
    "agent = VAgent(DoubleQAgent(QAgent(NstepReplay(ReplayBufferAgent))))(env=rubik,\n",
    "                FeatureExtractorNet = ValueNet, \n",
    "                features_size =80, \n",
    "                QnetworkHead = Vnetwork,\n",
    "                noisy = False,\n",
    "                target_update = 100,\n",
    "                batch_size=32, \n",
    "                gamma=1,\n",
    "                replay_buffer_nsteps = 1,\n",
    "                replay_buffer_init=100,\n",
    "                replay_buffer_capacity=10000,\n",
    "                #rp_alpha=0.6, rp_beta_start = 0.5, rp_beta_frames = 3000,\n",
    "                #epsilon_start = 1.0, epsilon_final = 0.01, epsilon_decay = 100,\n",
    "                optimizer_args={\"lr\": 0.001})"
   ]
  },
  {
   "cell_type": "code",
   "execution_count": 99,
   "metadata": {},
   "outputs": [],
   "source": [
    "rubik.complexity, rubik.limit = 1, 3"
   ]
  },
  {
   "cell_type": "code",
   "execution_count": 100,
   "metadata": {},
   "outputs": [
    {
     "data": {
      "image/png": "[encoded data removed]",
      "text/plain": [
       "<Figure size 1080x504 with 2 Axes>"
      ]
     },
     "metadata": {},
     "output_type": "display_data"
    },
    {
     "name": "stderr",
     "output_type": "stream",
     "text": [
      "\n",
      "\n",
      "\n",
      "\n",
      "\n",
      "\n",
      "100%|████████████████████████████████████████| 100/100 [00:22<00:00,  4.45it/s]\n",
      "\n",
      "\n",
      "\n",
      "\n",
      "\n"
     ]
    },
    {
     "name": "stdout",
     "output_type": "stream",
     "text": [
      "Complete\n"
     ]
    }
   ],
   "source": [
    "from tqdm import tqdm\n",
    "for i in tqdm(range(100)):\n",
    "    agent.play()\n",
    "    plot_durations(agent, 20)\n",
    "\n",
    "print('Complete')\n",
    "plt.show()"
   ]
  },
  {
   "cell_type": "markdown",
   "metadata": {},
   "source": [
    "### Проверка адекватности"
   ]
  },
  {
   "cell_type": "code",
   "execution_count": 136,
   "metadata": {},
   "outputs": [
    {
     "data": {
      "text/plain": [
       "tensor([[-6.7455, -4.1815, -7.9893, -6.6507, -7.0629, -4.8828, -5.5282, -4.0200,\n",
       "         -7.2350, -4.1948, -4.2414, -3.4259]],\n",
       "       device='cuda:0', grad_fn=<ThAddBackward>)"
      ]
     },
     "execution_count": 136,
     "metadata": {},
     "output_type": "execute_result"
    }
   ],
   "source": [
    "s = rubik.reset()\n",
    "agent.policy_net(Tensor(s)[None])"
   ]
  },
  {
   "cell_type": "code",
   "execution_count": 102,
   "metadata": {
    "scrolled": true
   },
   "outputs": [
    {
     "data": {
      "text/plain": [
       "(tensor([[[0., 0., 1., 0., 1., 0., 0., 1., 4., 2., 2., 4., 1., 4., 1., 1., 3.,\n",
       "           3., 3., 2., 2., 2., 2., 2., 0., 0., 5., 3., 5., 3., 3., 5., 3., 4.,\n",
       "           4., 3., 4., 0., 4., 4., 2., 5., 5., 1., 5., 1., 5., 5.],\n",
       "          [1., 1., 5., 0., 5., 0., 0., 5., 1., 1., 2., 1., 2., 1., 1., 2., 4.,\n",
       "           3., 3., 4., 2., 4., 2., 2., 0., 0., 0., 3., 3., 3., 3., 3., 4., 4.,\n",
       "           4., 4., 4., 0., 0., 1., 2., 2., 3., 5., 5., 5., 5., 5.],\n",
       "          [1., 1., 1., 0., 0., 0., 0., 0., 2., 2., 5., 1., 5., 1., 1., 5., 2.,\n",
       "           2., 3., 2., 3., 2., 2., 3., 4., 0., 0., 4., 3., 4., 3., 3., 4., 4.,\n",
       "           2., 4., 1., 4., 4., 1., 5., 5., 3., 5., 3., 5., 5., 0.],\n",
       "          [4., 1., 1., 4., 0., 4., 0., 0., 2., 2., 2., 1., 1., 1., 1., 1., 3.,\n",
       "           3., 5., 2., 5., 2., 2., 5., 3., 3., 0., 3., 0., 3., 3., 0., 3., 2.,\n",
       "           2., 4., 4., 4., 4., 4., 5., 5., 5., 5., 5., 1., 0., 0.],\n",
       "          [2., 2., 2., 0., 0., 0., 0., 0., 3., 3., 3., 1., 1., 1., 1., 1., 0.,\n",
       "           0., 0., 2., 2., 2., 2., 2., 1., 1., 1., 3., 3., 3., 3., 3., 4., 4.,\n",
       "           4., 4., 4., 4., 4., 4., 5., 5., 5., 5., 5., 5., 5., 5.],\n",
       "          [1., 1., 1., 0., 0., 3., 3., 3., 2., 2., 2., 1., 1., 0., 0., 0., 3.,\n",
       "           3., 3., 2., 2., 1., 1., 1., 0., 0., 0., 3., 3., 2., 2., 2., 4., 4.,\n",
       "           4., 4., 4., 4., 4., 4., 5., 5., 5., 5., 5., 5., 5., 5.],\n",
       "          [1., 0., 0., 1., 0., 1., 0., 0., 5., 2., 2., 5., 1., 5., 1., 1., 3.,\n",
       "           3., 3., 2., 2., 2., 2., 2., 0., 0., 4., 3., 4., 3., 3., 4., 2., 4.,\n",
       "           4., 1., 4., 1., 4., 4., 3., 5., 5., 3., 5., 0., 5., 5.],\n",
       "          [1., 1., 4., 0., 4., 0., 0., 4., 2., 1., 1., 2., 1., 2., 1., 1., 5.,\n",
       "           3., 3., 5., 2., 5., 2., 2., 0., 0., 0., 3., 3., 3., 3., 3., 4., 4.,\n",
       "           4., 4., 4., 3., 2., 2., 1., 0., 0., 5., 5., 5., 5., 5.],\n",
       "          [1., 1., 1., 0., 0., 0., 0., 0., 2., 2., 4., 1., 4., 1., 1., 4., 3.,\n",
       "           2., 2., 3., 2., 3., 2., 2., 5., 0., 0., 5., 3., 5., 3., 3., 4., 4.,\n",
       "           3., 4., 3., 4., 4., 0., 5., 5., 2., 5., 1., 5., 5., 1.],\n",
       "          [5., 1., 1., 5., 0., 5., 0., 0., 2., 2., 2., 1., 1., 1., 1., 1., 3.,\n",
       "           3., 4., 2., 4., 2., 2., 4., 0., 3., 3., 0., 3., 0., 3., 3., 0., 0.,\n",
       "           1., 4., 4., 4., 4., 4., 5., 5., 5., 5., 5., 2., 2., 3.],\n",
       "          [0., 0., 0., 0., 0., 0., 0., 0., 1., 1., 1., 1., 1., 1., 1., 1., 2.,\n",
       "           2., 2., 2., 2., 2., 2., 2., 3., 3., 3., 3., 3., 3., 3., 3., 4., 4.,\n",
       "           4., 4., 4., 4., 4., 4., 5., 5., 5., 5., 5., 5., 5., 5.],\n",
       "          [1., 1., 1., 0., 0., 1., 1., 1., 2., 2., 2., 1., 1., 2., 2., 2., 3.,\n",
       "           3., 3., 2., 2., 3., 3., 3., 0., 0., 0., 3., 3., 0., 0., 0., 4., 4.,\n",
       "           4., 4., 4., 4., 4., 4., 5., 5., 5., 5., 5., 5., 5., 5.]]],\n",
       "        device='cuda:0'),\n",
       " tensor([[-1., -1., -1., -1., -1., -1., -1., -1., -1., -1., -1., -1.]],\n",
       "        device='cuda:0'),\n",
       " tensor([[0., 0., 0., 0., 0., 0., 0., 0., 0., 0., 1., 0.]], device='cuda:0'))"
      ]
     },
     "execution_count": 102,
     "metadata": {},
     "output_type": "execute_result"
    }
   ],
   "source": [
    "next_states(Tensor(s)[None])"
   ]
  },
  {
   "cell_type": "markdown",
   "metadata": {},
   "source": [
    "Попробуем стирать буфер памяти (обнуление frames_done нужно для буфера с приоритетами"
   ]
  },
  {
   "cell_type": "code",
   "execution_count": 103,
   "metadata": {},
   "outputs": [],
   "source": [
    "def reset(agent):\n",
    "    agent.buffer = []\n",
    "    agent.pos = 0\n",
    "    agent.priorities = []\n",
    "    agent.frames_done = 0"
   ]
  },
  {
   "cell_type": "markdown",
   "metadata": {},
   "source": [
    "## Уровень 2"
   ]
  },
  {
   "cell_type": "code",
   "execution_count": 104,
   "metadata": {},
   "outputs": [],
   "source": [
    "rubik.complexity, rubik.limit = 2, 4"
   ]
  },
  {
   "cell_type": "code",
   "execution_count": 105,
   "metadata": {},
   "outputs": [],
   "source": [
    "reset(agent)"
   ]
  },
  {
   "cell_type": "code",
   "execution_count": 106,
   "metadata": {
    "scrolled": false
   },
   "outputs": [
    {
     "data": {
      "image/png": "[encoded data removed]",
      "text/plain": [
       "<Figure size 1080x504 with 2 Axes>"
      ]
     },
     "metadata": {},
     "output_type": "display_data"
    },
    {
     "name": "stdout",
     "output_type": "stream",
     "text": [
      "Percentage of success:  0.99\n",
      "Complete\n"
     ]
    }
   ],
   "source": [
    "for i in tqdm(range(1000)):\n",
    "    agent.play()\n",
    "    plot_durations(agent, 20)\n",
    "    \n",
    "    res = (np.array(agent.rewards_log[-100:]) > -5).mean()\n",
    "    print(\"Percentage of success: \", res)\n",
    "    if i > 100 and res > 0.98:\n",
    "        break\n",
    "\n",
    "print('Complete')\n",
    "plt.show()"
   ]
  },
  {
   "cell_type": "markdown",
   "metadata": {},
   "source": [
    "# Уровень 3"
   ]
  },
  {
   "cell_type": "code",
   "execution_count": 108,
   "metadata": {},
   "outputs": [],
   "source": [
    "reset(agent)\n",
    "agent.replay_buffer_nsteps = 2   # повысило с 0.9 до 0.96!!!!"
   ]
  },
  {
   "cell_type": "code",
   "execution_count": 109,
   "metadata": {},
   "outputs": [],
   "source": [
    "rubik.complexity, rubik.limit = 3, 6"
   ]
  },
  {
   "cell_type": "code",
   "execution_count": 110,
   "metadata": {},
   "outputs": [
    {
     "data": {
      "image/png": "[encoded data removed]",
      "text/plain": [
       "<Figure size 1080x504 with 2 Axes>"
      ]
     },
     "metadata": {},
     "output_type": "display_data"
    },
    {
     "name": "stdout",
     "output_type": "stream",
     "text": [
      "Percentage of success:  0.98\n",
      "Complete\n"
     ]
    }
   ],
   "source": [
    "for i in tqdm(range(1000)):\n",
    "    agent.play()\n",
    "    plot_durations(agent, 20)\n",
    "    \n",
    "    res = (np.array(agent.rewards_log[-100:]) > -7).mean()\n",
    "    print(\"Percentage of success: \", res)\n",
    "    if i > 100 and res > 0.97:\n",
    "        break\n",
    "\n",
    "print('Complete')\n",
    "plt.show()"
   ]
  },
  {
   "cell_type": "code",
   "execution_count": 111,
   "metadata": {},
   "outputs": [],
   "source": [
    "#agent.save(\"DQN 2-step level 3\")"
   ]
  },
  {
   "cell_type": "markdown",
   "metadata": {},
   "source": [
    "# Уровень 4"
   ]
  },
  {
   "cell_type": "code",
   "execution_count": 114,
   "metadata": {},
   "outputs": [],
   "source": [
    "reset(agent)"
   ]
  },
  {
   "cell_type": "code",
   "execution_count": 135,
   "metadata": {},
   "outputs": [],
   "source": [
    "rubik.complexity, rubik.limit = 4, 8"
   ]
  },
  {
   "cell_type": "code",
   "execution_count": 116,
   "metadata": {},
   "outputs": [
    {
     "data": {
      "image/png": "[encoded data removed]",
      "text/plain": [
       "<Figure size 1080x504 with 2 Axes>"
      ]
     },
     "metadata": {},
     "output_type": "display_data"
    },
    {
     "name": "stdout",
     "output_type": "stream",
     "text": [
      "Percentage of success:  0.97\n",
      "Complete\n"
     ]
    }
   ],
   "source": [
    "for i in tqdm(range(1000)):\n",
    "    agent.play()\n",
    "    plot_durations(agent, 20)\n",
    "    \n",
    "    res = (np.array(agent.rewards_log[-100:]) > -9).mean()\n",
    "    print(\"Percentage of success: \", res)\n",
    "    if i > 100 and res > 0.96:\n",
    "        break\n",
    "\n",
    "print('Complete')\n",
    "plt.show()"
   ]
  },
  {
   "cell_type": "code",
   "execution_count": 117,
   "metadata": {},
   "outputs": [],
   "source": [
    "agent.save(\"DQN 2-step level 4\")"
   ]
  },
  {
   "cell_type": "markdown",
   "metadata": {},
   "source": [
    "# Уровень 5"
   ]
  },
  {
   "cell_type": "code",
   "execution_count": 137,
   "metadata": {},
   "outputs": [],
   "source": [
    "agent.load(\"DQN 2-step level 4\")"
   ]
  },
  {
   "cell_type": "code",
   "execution_count": 138,
   "metadata": {},
   "outputs": [],
   "source": [
    "reset(agent)"
   ]
  },
  {
   "cell_type": "code",
   "execution_count": 140,
   "metadata": {},
   "outputs": [],
   "source": [
    "agent.replay_buffer_nsteps = 2\n",
    "agent.optimizer = torch.optim.Adam(agent.policy_net.parameters(), lr=0.0035)"
   ]
  },
  {
   "cell_type": "code",
   "execution_count": 141,
   "metadata": {},
   "outputs": [],
   "source": [
    "rubik.complexity, rubik.limit = 5, 10"
   ]
  },
  {
   "cell_type": "code",
   "execution_count": 143,
   "metadata": {},
   "outputs": [
    {
     "data": {
      "image/png": "[encoded data removed]",
      "text/plain": [
       "<Figure size 1080x504 with 2 Axes>"
      ]
     },
     "metadata": {},
     "output_type": "display_data"
    },
    {
     "name": "stdout",
     "output_type": "stream",
     "text": [
      "Percentage of success:  0.69\n"
     ]
    },
    {
     "name": "stderr",
     "output_type": "stream",
     "text": [
      "\n",
      "\n",
      "\n",
      "\n",
      "\n",
      "\n",
      "\n",
      "\n",
      "\n",
      "\n",
      "\n",
      "100%|██████████████████████████████████████| 1000/1000 [24:40<00:00,  1.48s/it]\n",
      "\n",
      "\n",
      "\n",
      "\n",
      "\n",
      "\n",
      "\n",
      "\n",
      "\n",
      "\n"
     ]
    },
    {
     "name": "stdout",
     "output_type": "stream",
     "text": [
      "Complete\n"
     ]
    }
   ],
   "source": [
    "for i in tqdm(range(1000)):\n",
    "    agent.play()\n",
    "    plot_durations(agent, 20)\n",
    "    \n",
    "    res = (np.array(agent.rewards_log[-100:]) > -11).mean()\n",
    "    print(\"Percentage of success: \", res)\n",
    "    if i > 100 and res > 0.95:\n",
    "        break\n",
    "\n",
    "print('Complete')\n",
    "plt.show()"
   ]
  },
  {
   "cell_type": "markdown",
   "metadata": {},
   "source": [
    "добивал до 0.75... Удалось повторить на nsteps = 2 при увеличинии learning_rate до 0.0035"
   ]
  },
  {
   "cell_type": "markdown",
   "metadata": {},
   "source": [
    "# Безконтрольное обучение..."
   ]
  },
  {
   "cell_type": "markdown",
   "metadata": {},
   "source": [
    "0.8 на пятом уровне даёт 0.7 на шестом, 0.5 на седьмом, и дальше всё, деградация."
   ]
  },
  {
   "cell_type": "code",
   "execution_count": 236,
   "metadata": {},
   "outputs": [
    {
     "data": {
      "image/png": "[encoded data removed]",
      "text/plain": [
       "<Figure size 1080x504 with 2 Axes>"
      ]
     },
     "metadata": {},
     "output_type": "display_data"
    },
    {
     "name": "stderr",
     "output_type": "stream",
     "text": [
      "\n",
      "\n",
      "\n",
      "\n",
      "\n",
      "\n",
      "\n",
      "\n",
      "\n",
      "\n",
      "100%|██████████████████████████████████████████| 50/50 [10:10<00:00, 12.22s/it]\n",
      "\n",
      "\n",
      "\n",
      "\n",
      "\n",
      "\n",
      "\n",
      "\n",
      "\n"
     ]
    },
    {
     "name": "stdout",
     "output_type": "stream",
     "text": [
      "Complete\n"
     ]
    }
   ],
   "source": [
    "for level in range(10, 20):\n",
    "    rubik.complexity, rubik.limit = level, 2*level+1\n",
    "    \n",
    "    for i in tqdm(range(50)):\n",
    "        agent.play()\n",
    "        plot_durations(agent, 20)\n",
    "        \n",
    "print('Complete')\n",
    "plt.show()"
   ]
  },
  {
   "cell_type": "code",
   "execution_count": 234,
   "metadata": {},
   "outputs": [
    {
     "name": "stdout",
     "output_type": "stream",
     "text": [
      "0.24\n",
      "0.29\n",
      "0.2\n",
      "0.22\n"
     ]
    }
   ],
   "source": [
    "print((np.array(agent.rewards_log[2500:2600]) > -18).mean())\n",
    "print((np.array(agent.rewards_log[2600:2700]) > -18).mean())\n",
    "print((np.array(agent.rewards_log[2700:2800]) > -20).mean())\n",
    "print((np.array(agent.rewards_log[2800:2900]) > -20).mean())"
   ]
  },
  {
   "cell_type": "code",
   "execution_count": 237,
   "metadata": {},
   "outputs": [
    {
     "data": {
      "text/plain": [
       "[-26,\n",
       " -26,\n",
       " -26,\n",
       " -26,\n",
       " -26,\n",
       " -26,\n",
       " -26,\n",
       " -26,\n",
       " -26,\n",
       " -26,\n",
       " -26,\n",
       " -26,\n",
       " -26,\n",
       " -26,\n",
       " -26,\n",
       " -26,\n",
       " -26,\n",
       " -26,\n",
       " -26,\n",
       " -26,\n",
       " -26,\n",
       " -26,\n",
       " -26,\n",
       " -26,\n",
       " -26,\n",
       " -26,\n",
       " -6,\n",
       " -26,\n",
       " -26,\n",
       " -26,\n",
       " -26,\n",
       " -26,\n",
       " -26,\n",
       " -26,\n",
       " -26,\n",
       " -26,\n",
       " -26,\n",
       " -26,\n",
       " -26,\n",
       " -26,\n",
       " -26,\n",
       " -26,\n",
       " -26,\n",
       " -26,\n",
       " -26,\n",
       " -26,\n",
       " -26,\n",
       " -26,\n",
       " -26,\n",
       " -26,\n",
       " -28,\n",
       " -28,\n",
       " -5,\n",
       " -28,\n",
       " -28,\n",
       " -28,\n",
       " -28,\n",
       " -28,\n",
       " -28,\n",
       " -28,\n",
       " -28,\n",
       " -28,\n",
       " -28,\n",
       " -28,\n",
       " -28,\n",
       " -5,\n",
       " -28,\n",
       " -28,\n",
       " -28,\n",
       " -28,\n",
       " -28,\n",
       " -28,\n",
       " -28,\n",
       " -7,\n",
       " -28,\n",
       " -28,\n",
       " -28,\n",
       " -28,\n",
       " -28,\n",
       " -28,\n",
       " -28,\n",
       " -28,\n",
       " -28,\n",
       " -28,\n",
       " -28,\n",
       " -28,\n",
       " -28,\n",
       " -28,\n",
       " -28,\n",
       " -28,\n",
       " -28,\n",
       " -28,\n",
       " -28,\n",
       " -28,\n",
       " -28,\n",
       " -28,\n",
       " -28,\n",
       " -28,\n",
       " -28,\n",
       " -28,\n",
       " -30,\n",
       " -30,\n",
       " -30,\n",
       " -30,\n",
       " -30,\n",
       " -30,\n",
       " -30,\n",
       " -30,\n",
       " -30,\n",
       " -30,\n",
       " -30,\n",
       " -30,\n",
       " -30,\n",
       " -30,\n",
       " -30,\n",
       " -30,\n",
       " -30,\n",
       " -30,\n",
       " -30,\n",
       " -30,\n",
       " -30,\n",
       " -30,\n",
       " -30,\n",
       " -30,\n",
       " -30,\n",
       " -8,\n",
       " -30,\n",
       " -30,\n",
       " -30,\n",
       " -30,\n",
       " -30,\n",
       " -30,\n",
       " -30,\n",
       " -30,\n",
       " -30,\n",
       " -30,\n",
       " -30,\n",
       " -30,\n",
       " -30,\n",
       " -30,\n",
       " -30,\n",
       " -30,\n",
       " -30,\n",
       " -30,\n",
       " -30,\n",
       " -4,\n",
       " -30,\n",
       " -30,\n",
       " -30,\n",
       " -30,\n",
       " -32,\n",
       " -32,\n",
       " -32,\n",
       " -32,\n",
       " -32,\n",
       " -32,\n",
       " -32,\n",
       " -32,\n",
       " -32,\n",
       " -32,\n",
       " -32,\n",
       " -32,\n",
       " -32,\n",
       " -32,\n",
       " -32,\n",
       " -32,\n",
       " -32,\n",
       " -32,\n",
       " -32,\n",
       " -32,\n",
       " -32,\n",
       " -32,\n",
       " -32,\n",
       " -32,\n",
       " -32,\n",
       " -32,\n",
       " -32,\n",
       " -32,\n",
       " -32,\n",
       " -32,\n",
       " -32,\n",
       " -32,\n",
       " -32,\n",
       " -32,\n",
       " -32,\n",
       " -32,\n",
       " -32,\n",
       " -32,\n",
       " -32,\n",
       " -5,\n",
       " -32,\n",
       " -32,\n",
       " -32,\n",
       " -32,\n",
       " -9,\n",
       " -32,\n",
       " -32,\n",
       " -32,\n",
       " -32,\n",
       " -32,\n",
       " -34,\n",
       " -34,\n",
       " -34,\n",
       " -34,\n",
       " -34,\n",
       " -34,\n",
       " -34,\n",
       " -34,\n",
       " -34,\n",
       " -34,\n",
       " -34,\n",
       " -34,\n",
       " -34,\n",
       " -34,\n",
       " -34,\n",
       " -34,\n",
       " -34,\n",
       " -34,\n",
       " -34,\n",
       " -34,\n",
       " -34,\n",
       " -34,\n",
       " -34,\n",
       " -34,\n",
       " -34,\n",
       " -34,\n",
       " -34,\n",
       " -34,\n",
       " -34,\n",
       " -34,\n",
       " -34,\n",
       " -34,\n",
       " -34,\n",
       " -34,\n",
       " -34,\n",
       " -34,\n",
       " -34,\n",
       " -34,\n",
       " -34,\n",
       " -34,\n",
       " -34,\n",
       " -34,\n",
       " -34,\n",
       " -34,\n",
       " -34,\n",
       " -34,\n",
       " -34,\n",
       " -34,\n",
       " -34,\n",
       " -34,\n",
       " -36,\n",
       " -36,\n",
       " -36,\n",
       " -36,\n",
       " -36,\n",
       " -36,\n",
       " -36,\n",
       " -36,\n",
       " -36,\n",
       " -36,\n",
       " -36,\n",
       " -36,\n",
       " -36,\n",
       " -36,\n",
       " -36,\n",
       " -36,\n",
       " -36,\n",
       " -36,\n",
       " -36,\n",
       " -36,\n",
       " -36,\n",
       " -36,\n",
       " -36,\n",
       " -36,\n",
       " -36,\n",
       " -36,\n",
       " -36,\n",
       " -36,\n",
       " -36,\n",
       " -36,\n",
       " -36,\n",
       " -36,\n",
       " -36,\n",
       " -36,\n",
       " -36,\n",
       " -36,\n",
       " -36,\n",
       " -36,\n",
       " -36,\n",
       " -36,\n",
       " -36,\n",
       " -36,\n",
       " -36,\n",
       " -36,\n",
       " -36,\n",
       " -36,\n",
       " -36,\n",
       " -36,\n",
       " -36,\n",
       " -36,\n",
       " -38,\n",
       " -38,\n",
       " -38,\n",
       " -38,\n",
       " -38,\n",
       " -38,\n",
       " -38,\n",
       " -38,\n",
       " -38,\n",
       " -38,\n",
       " -38,\n",
       " -38,\n",
       " -38,\n",
       " -38,\n",
       " -38,\n",
       " -38,\n",
       " -38,\n",
       " -38,\n",
       " -38,\n",
       " -38,\n",
       " -38,\n",
       " -38,\n",
       " -38,\n",
       " -38,\n",
       " -38,\n",
       " -38,\n",
       " -38,\n",
       " -38,\n",
       " -38,\n",
       " -38,\n",
       " -38,\n",
       " -38,\n",
       " -38,\n",
       " -38,\n",
       " -38,\n",
       " -38,\n",
       " -38,\n",
       " -38,\n",
       " -38,\n",
       " -38,\n",
       " -38,\n",
       " -38,\n",
       " -38,\n",
       " -38,\n",
       " -38,\n",
       " -38,\n",
       " -38,\n",
       " -38,\n",
       " -38,\n",
       " -38,\n",
       " -40,\n",
       " -40,\n",
       " -40,\n",
       " -40,\n",
       " -40,\n",
       " -40,\n",
       " -40,\n",
       " -40,\n",
       " -40,\n",
       " -40,\n",
       " -40,\n",
       " -40,\n",
       " -40,\n",
       " -40,\n",
       " -40,\n",
       " -40,\n",
       " -40,\n",
       " -40,\n",
       " -40,\n",
       " -40,\n",
       " -40,\n",
       " -40,\n",
       " -40,\n",
       " -40,\n",
       " -40,\n",
       " -40,\n",
       " -40,\n",
       " -40,\n",
       " -40,\n",
       " -40,\n",
       " -40,\n",
       " -40,\n",
       " -40,\n",
       " -40,\n",
       " -40,\n",
       " -40,\n",
       " -40,\n",
       " -40,\n",
       " -40,\n",
       " -40,\n",
       " -40,\n",
       " -40,\n",
       " -40,\n",
       " -40,\n",
       " -40,\n",
       " -40,\n",
       " -40,\n",
       " -40,\n",
       " -40,\n",
       " -40]"
      ]
     },
     "execution_count": 237,
     "metadata": {},
     "output_type": "execute_result"
    }
   ],
   "source": [
    "agent.rewards_log[3000:]"
   ]
  },
  {
   "cell_type": "code",
   "execution_count": null,
   "metadata": {},
   "outputs": [],
   "source": []
  },
  {
   "cell_type": "code",
   "execution_count": 245,
   "metadata": {},
   "outputs": [],
   "source": [
    "rubik.complexity, rubik.limit = 10, 100"
   ]
  },
  {
   "cell_type": "code",
   "execution_count": 246,
   "metadata": {},
   "outputs": [
    {
     "data": {
      "text/plain": [
       "-101"
      ]
     },
     "execution_count": 246,
     "metadata": {},
     "output_type": "execute_result"
    }
   ],
   "source": [
    "agent.play(learn=False)"
   ]
  },
  {
   "cell_type": "code",
   "execution_count": null,
   "metadata": {},
   "outputs": [],
   "source": []
  },
  {
   "cell_type": "code",
   "execution_count": null,
   "metadata": {},
   "outputs": [],
   "source": []
  },
  {
   "cell_type": "code",
   "execution_count": null,
   "metadata": {},
   "outputs": [],
   "source": []
  },
  {
   "cell_type": "markdown",
   "metadata": {},
   "source": [
    "# Динамическое изменение уровней"
   ]
  },
  {
   "cell_type": "code",
   "execution_count": 85,
   "metadata": {},
   "outputs": [],
   "source": [
    "def plot_with_levels(agent, levels, means_window=100):\n",
    "    \"\"\"plot agent logs\"\"\"    \n",
    "    clear_output(wait=True)\n",
    "    \n",
    "    plt.figure(2, figsize=(15, 7))\n",
    "    plt.title('Training...')\n",
    "    \n",
    "    plt.subplot(221)\n",
    "    plt.xlabel('Episode')\n",
    "    plt.ylabel('Reward')\n",
    "    plt.plot(agent.rewards_log)\n",
    "    plt.plot(sliding_average(agent.rewards_log, means_window))\n",
    "    \n",
    "    if hasattr(agent, 'loss_log'):\n",
    "        plt.subplot(222)\n",
    "        plt.xlabel('Frame')\n",
    "        plt.ylabel('Loss')\n",
    "        plt.plot(agent.loss_log)\n",
    "        \n",
    "    if hasattr(agent, 'magnitude_log'):\n",
    "        plt.subplot(223)\n",
    "        plt.xlabel('Frame')\n",
    "        plt.ylabel('Noise Average Magnitude')\n",
    "        plt.plot(agent.magnitude_log)\n",
    "        \n",
    "    plt.subplot(224)\n",
    "    plt.xlabel('Episode')\n",
    "    plt.ylabel('Level')\n",
    "    plt.plot(levels)\n",
    "    \n",
    "    plt.show()"
   ]
  },
  {
   "cell_type": "code",
   "execution_count": 65,
   "metadata": {},
   "outputs": [],
   "source": [
    "levels = []\n",
    "level = 1\n",
    "checkpoint = 0"
   ]
  },
  {
   "cell_type": "code",
   "execution_count": 68,
   "metadata": {
    "scrolled": true
   },
   "outputs": [
    {
     "ename": "KeyboardInterrupt",
     "evalue": "",
     "output_type": "error",
     "traceback": [
      "\u001b[1;31m---------------------------------------------------------------------------\u001b[0m",
      "\u001b[1;31mKeyboardInterrupt\u001b[0m                         Traceback (most recent call last)",
      "\u001b[1;32m<ipython-input-68-b2fa547440eb>\u001b[0m in \u001b[0;36m<module>\u001b[1;34m()\u001b[0m\n\u001b[0;32m      5\u001b[0m \u001b[1;33m\u001b[0m\u001b[0m\n\u001b[0;32m      6\u001b[0m     \u001b[0magent\u001b[0m\u001b[1;33m.\u001b[0m\u001b[0mplay\u001b[0m\u001b[1;33m(\u001b[0m\u001b[1;33m)\u001b[0m\u001b[1;33m\u001b[0m\u001b[0m\n\u001b[1;32m----> 7\u001b[1;33m     \u001b[0mplot_with_levels\u001b[0m\u001b[1;33m(\u001b[0m\u001b[0magent\u001b[0m\u001b[1;33m,\u001b[0m \u001b[0mlevels\u001b[0m\u001b[1;33m,\u001b[0m \u001b[1;36m20\u001b[0m\u001b[1;33m)\u001b[0m\u001b[1;33m\u001b[0m\u001b[0m\n\u001b[0m\u001b[0;32m      8\u001b[0m \u001b[1;33m\u001b[0m\u001b[0m\n\u001b[0;32m      9\u001b[0m     \u001b[1;32mif\u001b[0m \u001b[0mlen\u001b[0m\u001b[1;33m(\u001b[0m\u001b[0magent\u001b[0m\u001b[1;33m.\u001b[0m\u001b[0mrewards_log\u001b[0m\u001b[1;33m[\u001b[0m\u001b[0mcheckpoint\u001b[0m\u001b[1;33m:\u001b[0m\u001b[1;33m]\u001b[0m\u001b[1;33m)\u001b[0m \u001b[1;33m>\u001b[0m \u001b[1;36m30\u001b[0m\u001b[1;33m:\u001b[0m\u001b[1;33m\u001b[0m\u001b[0m\n",
      "\u001b[1;32m<ipython-input-64-2f70f90040d6>\u001b[0m in \u001b[0;36mplot_with_levels\u001b[1;34m(agent, levels, means_window)\u001b[0m\n\u001b[0;32m     29\u001b[0m     \u001b[0mplt\u001b[0m\u001b[1;33m.\u001b[0m\u001b[0mplot\u001b[0m\u001b[1;33m(\u001b[0m\u001b[0mlevels\u001b[0m\u001b[1;33m)\u001b[0m\u001b[1;33m\u001b[0m\u001b[0m\n\u001b[0;32m     30\u001b[0m \u001b[1;33m\u001b[0m\u001b[0m\n\u001b[1;32m---> 31\u001b[1;33m     \u001b[0mplt\u001b[0m\u001b[1;33m.\u001b[0m\u001b[0mshow\u001b[0m\u001b[1;33m(\u001b[0m\u001b[1;33m)\u001b[0m\u001b[1;33m\u001b[0m\u001b[0m\n\u001b[0m",
      "\u001b[1;32mC:\\ProgramData\\Anaconda3\\lib\\site-packages\\matplotlib\\pyplot.py\u001b[0m in \u001b[0;36mshow\u001b[1;34m(*args, **kw)\u001b[0m\n\u001b[0;32m    251\u001b[0m     \"\"\"\n\u001b[0;32m    252\u001b[0m     \u001b[1;32mglobal\u001b[0m \u001b[0m_show\u001b[0m\u001b[1;33m\u001b[0m\u001b[0m\n\u001b[1;32m--> 253\u001b[1;33m     \u001b[1;32mreturn\u001b[0m \u001b[0m_show\u001b[0m\u001b[1;33m(\u001b[0m\u001b[1;33m*\u001b[0m\u001b[0margs\u001b[0m\u001b[1;33m,\u001b[0m \u001b[1;33m**\u001b[0m\u001b[0mkw\u001b[0m\u001b[1;33m)\u001b[0m\u001b[1;33m\u001b[0m\u001b[0m\n\u001b[0m\u001b[0;32m    254\u001b[0m \u001b[1;33m\u001b[0m\u001b[0m\n\u001b[0;32m    255\u001b[0m \u001b[1;33m\u001b[0m\u001b[0m\n",
      "\u001b[1;32mC:\\ProgramData\\Anaconda3\\lib\\site-packages\\ipykernel\\pylab\\backend_inline.py\u001b[0m in \u001b[0;36mshow\u001b[1;34m(close, block)\u001b[0m\n\u001b[0;32m     34\u001b[0m     \u001b[1;32mtry\u001b[0m\u001b[1;33m:\u001b[0m\u001b[1;33m\u001b[0m\u001b[0m\n\u001b[0;32m     35\u001b[0m         \u001b[1;32mfor\u001b[0m \u001b[0mfigure_manager\u001b[0m \u001b[1;32min\u001b[0m \u001b[0mGcf\u001b[0m\u001b[1;33m.\u001b[0m\u001b[0mget_all_fig_managers\u001b[0m\u001b[1;33m(\u001b[0m\u001b[1;33m)\u001b[0m\u001b[1;33m:\u001b[0m\u001b[1;33m\u001b[0m\u001b[0m\n\u001b[1;32m---> 36\u001b[1;33m             \u001b[0mdisplay\u001b[0m\u001b[1;33m(\u001b[0m\u001b[0mfigure_manager\u001b[0m\u001b[1;33m.\u001b[0m\u001b[0mcanvas\u001b[0m\u001b[1;33m.\u001b[0m\u001b[0mfigure\u001b[0m\u001b[1;33m)\u001b[0m\u001b[1;33m\u001b[0m\u001b[0m\n\u001b[0m\u001b[0;32m     37\u001b[0m     \u001b[1;32mfinally\u001b[0m\u001b[1;33m:\u001b[0m\u001b[1;33m\u001b[0m\u001b[0m\n\u001b[0;32m     38\u001b[0m         \u001b[0mshow\u001b[0m\u001b[1;33m.\u001b[0m\u001b[0m_to_draw\u001b[0m \u001b[1;33m=\u001b[0m \u001b[1;33m[\u001b[0m\u001b[1;33m]\u001b[0m\u001b[1;33m\u001b[0m\u001b[0m\n",
      "\u001b[1;32mC:\\ProgramData\\Anaconda3\\lib\\site-packages\\IPython\\core\\display.py\u001b[0m in \u001b[0;36mdisplay\u001b[1;34m(include, exclude, metadata, transient, display_id, *objs, **kwargs)\u001b[0m\n\u001b[0;32m    296\u001b[0m             \u001b[0mpublish_display_data\u001b[0m\u001b[1;33m(\u001b[0m\u001b[0mdata\u001b[0m\u001b[1;33m=\u001b[0m\u001b[0mobj\u001b[0m\u001b[1;33m,\u001b[0m \u001b[0mmetadata\u001b[0m\u001b[1;33m=\u001b[0m\u001b[0mmetadata\u001b[0m\u001b[1;33m,\u001b[0m \u001b[1;33m**\u001b[0m\u001b[0mkwargs\u001b[0m\u001b[1;33m)\u001b[0m\u001b[1;33m\u001b[0m\u001b[0m\n\u001b[0;32m    297\u001b[0m         \u001b[1;32melse\u001b[0m\u001b[1;33m:\u001b[0m\u001b[1;33m\u001b[0m\u001b[0m\n\u001b[1;32m--> 298\u001b[1;33m             \u001b[0mformat_dict\u001b[0m\u001b[1;33m,\u001b[0m \u001b[0mmd_dict\u001b[0m \u001b[1;33m=\u001b[0m \u001b[0mformat\u001b[0m\u001b[1;33m(\u001b[0m\u001b[0mobj\u001b[0m\u001b[1;33m,\u001b[0m \u001b[0minclude\u001b[0m\u001b[1;33m=\u001b[0m\u001b[0minclude\u001b[0m\u001b[1;33m,\u001b[0m \u001b[0mexclude\u001b[0m\u001b[1;33m=\u001b[0m\u001b[0mexclude\u001b[0m\u001b[1;33m)\u001b[0m\u001b[1;33m\u001b[0m\u001b[0m\n\u001b[0m\u001b[0;32m    299\u001b[0m             \u001b[1;32mif\u001b[0m \u001b[1;32mnot\u001b[0m \u001b[0mformat_dict\u001b[0m\u001b[1;33m:\u001b[0m\u001b[1;33m\u001b[0m\u001b[0m\n\u001b[0;32m    300\u001b[0m                 \u001b[1;31m# nothing to display (e.g. _ipython_display_ took over)\u001b[0m\u001b[1;33m\u001b[0m\u001b[1;33m\u001b[0m\u001b[0m\n",
      "\u001b[1;32mC:\\ProgramData\\Anaconda3\\lib\\site-packages\\IPython\\core\\formatters.py\u001b[0m in \u001b[0;36mformat\u001b[1;34m(self, obj, include, exclude)\u001b[0m\n\u001b[0;32m    178\u001b[0m             \u001b[0mmd\u001b[0m \u001b[1;33m=\u001b[0m \u001b[1;32mNone\u001b[0m\u001b[1;33m\u001b[0m\u001b[0m\n\u001b[0;32m    179\u001b[0m             \u001b[1;32mtry\u001b[0m\u001b[1;33m:\u001b[0m\u001b[1;33m\u001b[0m\u001b[0m\n\u001b[1;32m--> 180\u001b[1;33m                 \u001b[0mdata\u001b[0m \u001b[1;33m=\u001b[0m \u001b[0mformatter\u001b[0m\u001b[1;33m(\u001b[0m\u001b[0mobj\u001b[0m\u001b[1;33m)\u001b[0m\u001b[1;33m\u001b[0m\u001b[0m\n\u001b[0m\u001b[0;32m    181\u001b[0m             \u001b[1;32mexcept\u001b[0m\u001b[1;33m:\u001b[0m\u001b[1;33m\u001b[0m\u001b[0m\n\u001b[0;32m    182\u001b[0m                 \u001b[1;31m# FIXME: log the exception\u001b[0m\u001b[1;33m\u001b[0m\u001b[1;33m\u001b[0m\u001b[0m\n",
      "\u001b[1;32m<decorator-gen-9>\u001b[0m in \u001b[0;36m__call__\u001b[1;34m(self, obj)\u001b[0m\n",
      "\u001b[1;32mC:\\ProgramData\\Anaconda3\\lib\\site-packages\\IPython\\core\\formatters.py\u001b[0m in \u001b[0;36mcatch_format_error\u001b[1;34m(method, self, *args, **kwargs)\u001b[0m\n\u001b[0;32m    222\u001b[0m     \u001b[1;34m\"\"\"show traceback on failed format call\"\"\"\u001b[0m\u001b[1;33m\u001b[0m\u001b[0m\n\u001b[0;32m    223\u001b[0m     \u001b[1;32mtry\u001b[0m\u001b[1;33m:\u001b[0m\u001b[1;33m\u001b[0m\u001b[0m\n\u001b[1;32m--> 224\u001b[1;33m         \u001b[0mr\u001b[0m \u001b[1;33m=\u001b[0m \u001b[0mmethod\u001b[0m\u001b[1;33m(\u001b[0m\u001b[0mself\u001b[0m\u001b[1;33m,\u001b[0m \u001b[1;33m*\u001b[0m\u001b[0margs\u001b[0m\u001b[1;33m,\u001b[0m \u001b[1;33m**\u001b[0m\u001b[0mkwargs\u001b[0m\u001b[1;33m)\u001b[0m\u001b[1;33m\u001b[0m\u001b[0m\n\u001b[0m\u001b[0;32m    225\u001b[0m     \u001b[1;32mexcept\u001b[0m \u001b[0mNotImplementedError\u001b[0m\u001b[1;33m:\u001b[0m\u001b[1;33m\u001b[0m\u001b[0m\n\u001b[0;32m    226\u001b[0m         \u001b[1;31m# don't warn on NotImplementedErrors\u001b[0m\u001b[1;33m\u001b[0m\u001b[1;33m\u001b[0m\u001b[0m\n",
      "\u001b[1;32mC:\\ProgramData\\Anaconda3\\lib\\site-packages\\IPython\\core\\formatters.py\u001b[0m in \u001b[0;36m__call__\u001b[1;34m(self, obj)\u001b[0m\n\u001b[0;32m    339\u001b[0m                 \u001b[1;32mpass\u001b[0m\u001b[1;33m\u001b[0m\u001b[0m\n\u001b[0;32m    340\u001b[0m             \u001b[1;32melse\u001b[0m\u001b[1;33m:\u001b[0m\u001b[1;33m\u001b[0m\u001b[0m\n\u001b[1;32m--> 341\u001b[1;33m                 \u001b[1;32mreturn\u001b[0m \u001b[0mprinter\u001b[0m\u001b[1;33m(\u001b[0m\u001b[0mobj\u001b[0m\u001b[1;33m)\u001b[0m\u001b[1;33m\u001b[0m\u001b[0m\n\u001b[0m\u001b[0;32m    342\u001b[0m             \u001b[1;31m# Finally look for special method names\u001b[0m\u001b[1;33m\u001b[0m\u001b[1;33m\u001b[0m\u001b[0m\n\u001b[0;32m    343\u001b[0m             \u001b[0mmethod\u001b[0m \u001b[1;33m=\u001b[0m \u001b[0mget_real_method\u001b[0m\u001b[1;33m(\u001b[0m\u001b[0mobj\u001b[0m\u001b[1;33m,\u001b[0m \u001b[0mself\u001b[0m\u001b[1;33m.\u001b[0m\u001b[0mprint_method\u001b[0m\u001b[1;33m)\u001b[0m\u001b[1;33m\u001b[0m\u001b[0m\n",
      "\u001b[1;32mC:\\ProgramData\\Anaconda3\\lib\\site-packages\\IPython\\core\\pylabtools.py\u001b[0m in \u001b[0;36m<lambda>\u001b[1;34m(fig)\u001b[0m\n\u001b[0;32m    239\u001b[0m \u001b[1;33m\u001b[0m\u001b[0m\n\u001b[0;32m    240\u001b[0m     \u001b[1;32mif\u001b[0m \u001b[1;34m'png'\u001b[0m \u001b[1;32min\u001b[0m \u001b[0mformats\u001b[0m\u001b[1;33m:\u001b[0m\u001b[1;33m\u001b[0m\u001b[0m\n\u001b[1;32m--> 241\u001b[1;33m         \u001b[0mpng_formatter\u001b[0m\u001b[1;33m.\u001b[0m\u001b[0mfor_type\u001b[0m\u001b[1;33m(\u001b[0m\u001b[0mFigure\u001b[0m\u001b[1;33m,\u001b[0m \u001b[1;32mlambda\u001b[0m \u001b[0mfig\u001b[0m\u001b[1;33m:\u001b[0m \u001b[0mprint_figure\u001b[0m\u001b[1;33m(\u001b[0m\u001b[0mfig\u001b[0m\u001b[1;33m,\u001b[0m \u001b[1;34m'png'\u001b[0m\u001b[1;33m,\u001b[0m \u001b[1;33m**\u001b[0m\u001b[0mkwargs\u001b[0m\u001b[1;33m)\u001b[0m\u001b[1;33m)\u001b[0m\u001b[1;33m\u001b[0m\u001b[0m\n\u001b[0m\u001b[0;32m    242\u001b[0m     \u001b[1;32mif\u001b[0m \u001b[1;34m'retina'\u001b[0m \u001b[1;32min\u001b[0m \u001b[0mformats\u001b[0m \u001b[1;32mor\u001b[0m \u001b[1;34m'png2x'\u001b[0m \u001b[1;32min\u001b[0m \u001b[0mformats\u001b[0m\u001b[1;33m:\u001b[0m\u001b[1;33m\u001b[0m\u001b[0m\n\u001b[0;32m    243\u001b[0m         \u001b[0mpng_formatter\u001b[0m\u001b[1;33m.\u001b[0m\u001b[0mfor_type\u001b[0m\u001b[1;33m(\u001b[0m\u001b[0mFigure\u001b[0m\u001b[1;33m,\u001b[0m \u001b[1;32mlambda\u001b[0m \u001b[0mfig\u001b[0m\u001b[1;33m:\u001b[0m \u001b[0mretina_figure\u001b[0m\u001b[1;33m(\u001b[0m\u001b[0mfig\u001b[0m\u001b[1;33m,\u001b[0m \u001b[1;33m**\u001b[0m\u001b[0mkwargs\u001b[0m\u001b[1;33m)\u001b[0m\u001b[1;33m)\u001b[0m\u001b[1;33m\u001b[0m\u001b[0m\n",
      "\u001b[1;32mC:\\ProgramData\\Anaconda3\\lib\\site-packages\\IPython\\core\\pylabtools.py\u001b[0m in \u001b[0;36mprint_figure\u001b[1;34m(fig, fmt, bbox_inches, **kwargs)\u001b[0m\n\u001b[0;32m    123\u001b[0m \u001b[1;33m\u001b[0m\u001b[0m\n\u001b[0;32m    124\u001b[0m     \u001b[0mbytes_io\u001b[0m \u001b[1;33m=\u001b[0m \u001b[0mBytesIO\u001b[0m\u001b[1;33m(\u001b[0m\u001b[1;33m)\u001b[0m\u001b[1;33m\u001b[0m\u001b[0m\n\u001b[1;32m--> 125\u001b[1;33m     \u001b[0mfig\u001b[0m\u001b[1;33m.\u001b[0m\u001b[0mcanvas\u001b[0m\u001b[1;33m.\u001b[0m\u001b[0mprint_figure\u001b[0m\u001b[1;33m(\u001b[0m\u001b[0mbytes_io\u001b[0m\u001b[1;33m,\u001b[0m \u001b[1;33m**\u001b[0m\u001b[0mkw\u001b[0m\u001b[1;33m)\u001b[0m\u001b[1;33m\u001b[0m\u001b[0m\n\u001b[0m\u001b[0;32m    126\u001b[0m     \u001b[0mdata\u001b[0m \u001b[1;33m=\u001b[0m \u001b[0mbytes_io\u001b[0m\u001b[1;33m.\u001b[0m\u001b[0mgetvalue\u001b[0m\u001b[1;33m(\u001b[0m\u001b[1;33m)\u001b[0m\u001b[1;33m\u001b[0m\u001b[0m\n\u001b[0;32m    127\u001b[0m     \u001b[1;32mif\u001b[0m \u001b[0mfmt\u001b[0m \u001b[1;33m==\u001b[0m \u001b[1;34m'svg'\u001b[0m\u001b[1;33m:\u001b[0m\u001b[1;33m\u001b[0m\u001b[0m\n",
      "\u001b[1;32mC:\\ProgramData\\Anaconda3\\lib\\site-packages\\matplotlib\\backend_bases.py\u001b[0m in \u001b[0;36mprint_figure\u001b[1;34m(self, filename, dpi, facecolor, edgecolor, orientation, format, **kwargs)\u001b[0m\n\u001b[0;32m   2261\u001b[0m                 \u001b[0morientation\u001b[0m\u001b[1;33m=\u001b[0m\u001b[0morientation\u001b[0m\u001b[1;33m,\u001b[0m\u001b[1;33m\u001b[0m\u001b[0m\n\u001b[0;32m   2262\u001b[0m                 \u001b[0mbbox_inches_restore\u001b[0m\u001b[1;33m=\u001b[0m\u001b[0m_bbox_inches_restore\u001b[0m\u001b[1;33m,\u001b[0m\u001b[1;33m\u001b[0m\u001b[0m\n\u001b[1;32m-> 2263\u001b[1;33m                 **kwargs)\n\u001b[0m\u001b[0;32m   2264\u001b[0m         \u001b[1;32mfinally\u001b[0m\u001b[1;33m:\u001b[0m\u001b[1;33m\u001b[0m\u001b[0m\n\u001b[0;32m   2265\u001b[0m             \u001b[1;32mif\u001b[0m \u001b[0mbbox_inches\u001b[0m \u001b[1;32mand\u001b[0m \u001b[0mrestore_bbox\u001b[0m\u001b[1;33m:\u001b[0m\u001b[1;33m\u001b[0m\u001b[0m\n",
      "\u001b[1;32mC:\\ProgramData\\Anaconda3\\lib\\site-packages\\matplotlib\\backends\\backend_agg.py\u001b[0m in \u001b[0;36mprint_png\u001b[1;34m(self, filename_or_obj, *args, **kwargs)\u001b[0m\n\u001b[0;32m    511\u001b[0m \u001b[1;33m\u001b[0m\u001b[0m\n\u001b[0;32m    512\u001b[0m     \u001b[1;32mdef\u001b[0m \u001b[0mprint_png\u001b[0m\u001b[1;33m(\u001b[0m\u001b[0mself\u001b[0m\u001b[1;33m,\u001b[0m \u001b[0mfilename_or_obj\u001b[0m\u001b[1;33m,\u001b[0m \u001b[1;33m*\u001b[0m\u001b[0margs\u001b[0m\u001b[1;33m,\u001b[0m \u001b[1;33m**\u001b[0m\u001b[0mkwargs\u001b[0m\u001b[1;33m)\u001b[0m\u001b[1;33m:\u001b[0m\u001b[1;33m\u001b[0m\u001b[0m\n\u001b[1;32m--> 513\u001b[1;33m         \u001b[0mFigureCanvasAgg\u001b[0m\u001b[1;33m.\u001b[0m\u001b[0mdraw\u001b[0m\u001b[1;33m(\u001b[0m\u001b[0mself\u001b[0m\u001b[1;33m)\u001b[0m\u001b[1;33m\u001b[0m\u001b[0m\n\u001b[0m\u001b[0;32m    514\u001b[0m         \u001b[0mrenderer\u001b[0m \u001b[1;33m=\u001b[0m \u001b[0mself\u001b[0m\u001b[1;33m.\u001b[0m\u001b[0mget_renderer\u001b[0m\u001b[1;33m(\u001b[0m\u001b[1;33m)\u001b[0m\u001b[1;33m\u001b[0m\u001b[0m\n\u001b[0;32m    515\u001b[0m         \u001b[0moriginal_dpi\u001b[0m \u001b[1;33m=\u001b[0m \u001b[0mrenderer\u001b[0m\u001b[1;33m.\u001b[0m\u001b[0mdpi\u001b[0m\u001b[1;33m\u001b[0m\u001b[0m\n",
      "\u001b[1;32mC:\\ProgramData\\Anaconda3\\lib\\site-packages\\matplotlib\\backends\\backend_agg.py\u001b[0m in \u001b[0;36mdraw\u001b[1;34m(self)\u001b[0m\n\u001b[0;32m    431\u001b[0m             \u001b[1;31m# if toolbar:\u001b[0m\u001b[1;33m\u001b[0m\u001b[1;33m\u001b[0m\u001b[0m\n\u001b[0;32m    432\u001b[0m             \u001b[1;31m#     toolbar.set_cursor(cursors.WAIT)\u001b[0m\u001b[1;33m\u001b[0m\u001b[1;33m\u001b[0m\u001b[0m\n\u001b[1;32m--> 433\u001b[1;33m             \u001b[0mself\u001b[0m\u001b[1;33m.\u001b[0m\u001b[0mfigure\u001b[0m\u001b[1;33m.\u001b[0m\u001b[0mdraw\u001b[0m\u001b[1;33m(\u001b[0m\u001b[0mself\u001b[0m\u001b[1;33m.\u001b[0m\u001b[0mrenderer\u001b[0m\u001b[1;33m)\u001b[0m\u001b[1;33m\u001b[0m\u001b[0m\n\u001b[0m\u001b[0;32m    434\u001b[0m             \u001b[1;31m# A GUI class may be need to update a window using this draw, so\u001b[0m\u001b[1;33m\u001b[0m\u001b[1;33m\u001b[0m\u001b[0m\n\u001b[0;32m    435\u001b[0m             \u001b[1;31m# don't forget to call the superclass.\u001b[0m\u001b[1;33m\u001b[0m\u001b[1;33m\u001b[0m\u001b[0m\n",
      "\u001b[1;32mC:\\ProgramData\\Anaconda3\\lib\\site-packages\\matplotlib\\artist.py\u001b[0m in \u001b[0;36mdraw_wrapper\u001b[1;34m(artist, renderer, *args, **kwargs)\u001b[0m\n\u001b[0;32m     53\u001b[0m                 \u001b[0mrenderer\u001b[0m\u001b[1;33m.\u001b[0m\u001b[0mstart_filter\u001b[0m\u001b[1;33m(\u001b[0m\u001b[1;33m)\u001b[0m\u001b[1;33m\u001b[0m\u001b[0m\n\u001b[0;32m     54\u001b[0m \u001b[1;33m\u001b[0m\u001b[0m\n\u001b[1;32m---> 55\u001b[1;33m             \u001b[1;32mreturn\u001b[0m \u001b[0mdraw\u001b[0m\u001b[1;33m(\u001b[0m\u001b[0martist\u001b[0m\u001b[1;33m,\u001b[0m \u001b[0mrenderer\u001b[0m\u001b[1;33m,\u001b[0m \u001b[1;33m*\u001b[0m\u001b[0margs\u001b[0m\u001b[1;33m,\u001b[0m \u001b[1;33m**\u001b[0m\u001b[0mkwargs\u001b[0m\u001b[1;33m)\u001b[0m\u001b[1;33m\u001b[0m\u001b[0m\n\u001b[0m\u001b[0;32m     56\u001b[0m         \u001b[1;32mfinally\u001b[0m\u001b[1;33m:\u001b[0m\u001b[1;33m\u001b[0m\u001b[0m\n\u001b[0;32m     57\u001b[0m             \u001b[1;32mif\u001b[0m \u001b[0martist\u001b[0m\u001b[1;33m.\u001b[0m\u001b[0mget_agg_filter\u001b[0m\u001b[1;33m(\u001b[0m\u001b[1;33m)\u001b[0m \u001b[1;32mis\u001b[0m \u001b[1;32mnot\u001b[0m \u001b[1;32mNone\u001b[0m\u001b[1;33m:\u001b[0m\u001b[1;33m\u001b[0m\u001b[0m\n",
      "\u001b[1;32mC:\\ProgramData\\Anaconda3\\lib\\site-packages\\matplotlib\\figure.py\u001b[0m in \u001b[0;36mdraw\u001b[1;34m(self, renderer)\u001b[0m\n\u001b[0;32m   1473\u001b[0m \u001b[1;33m\u001b[0m\u001b[0m\n\u001b[0;32m   1474\u001b[0m             mimage._draw_list_compositing_images(\n\u001b[1;32m-> 1475\u001b[1;33m                 renderer, self, artists, self.suppressComposite)\n\u001b[0m\u001b[0;32m   1476\u001b[0m \u001b[1;33m\u001b[0m\u001b[0m\n\u001b[0;32m   1477\u001b[0m             \u001b[0mrenderer\u001b[0m\u001b[1;33m.\u001b[0m\u001b[0mclose_group\u001b[0m\u001b[1;33m(\u001b[0m\u001b[1;34m'figure'\u001b[0m\u001b[1;33m)\u001b[0m\u001b[1;33m\u001b[0m\u001b[0m\n",
      "\u001b[1;32mC:\\ProgramData\\Anaconda3\\lib\\site-packages\\matplotlib\\image.py\u001b[0m in \u001b[0;36m_draw_list_compositing_images\u001b[1;34m(renderer, parent, artists, suppress_composite)\u001b[0m\n\u001b[0;32m    139\u001b[0m     \u001b[1;32mif\u001b[0m \u001b[0mnot_composite\u001b[0m \u001b[1;32mor\u001b[0m \u001b[1;32mnot\u001b[0m \u001b[0mhas_images\u001b[0m\u001b[1;33m:\u001b[0m\u001b[1;33m\u001b[0m\u001b[0m\n\u001b[0;32m    140\u001b[0m         \u001b[1;32mfor\u001b[0m \u001b[0ma\u001b[0m \u001b[1;32min\u001b[0m \u001b[0martists\u001b[0m\u001b[1;33m:\u001b[0m\u001b[1;33m\u001b[0m\u001b[0m\n\u001b[1;32m--> 141\u001b[1;33m             \u001b[0ma\u001b[0m\u001b[1;33m.\u001b[0m\u001b[0mdraw\u001b[0m\u001b[1;33m(\u001b[0m\u001b[0mrenderer\u001b[0m\u001b[1;33m)\u001b[0m\u001b[1;33m\u001b[0m\u001b[0m\n\u001b[0m\u001b[0;32m    142\u001b[0m     \u001b[1;32melse\u001b[0m\u001b[1;33m:\u001b[0m\u001b[1;33m\u001b[0m\u001b[0m\n\u001b[0;32m    143\u001b[0m         \u001b[1;31m# Composite any adjacent images together\u001b[0m\u001b[1;33m\u001b[0m\u001b[1;33m\u001b[0m\u001b[0m\n",
      "\u001b[1;32mC:\\ProgramData\\Anaconda3\\lib\\site-packages\\matplotlib\\artist.py\u001b[0m in \u001b[0;36mdraw_wrapper\u001b[1;34m(artist, renderer, *args, **kwargs)\u001b[0m\n\u001b[0;32m     53\u001b[0m                 \u001b[0mrenderer\u001b[0m\u001b[1;33m.\u001b[0m\u001b[0mstart_filter\u001b[0m\u001b[1;33m(\u001b[0m\u001b[1;33m)\u001b[0m\u001b[1;33m\u001b[0m\u001b[0m\n\u001b[0;32m     54\u001b[0m \u001b[1;33m\u001b[0m\u001b[0m\n\u001b[1;32m---> 55\u001b[1;33m             \u001b[1;32mreturn\u001b[0m \u001b[0mdraw\u001b[0m\u001b[1;33m(\u001b[0m\u001b[0martist\u001b[0m\u001b[1;33m,\u001b[0m \u001b[0mrenderer\u001b[0m\u001b[1;33m,\u001b[0m \u001b[1;33m*\u001b[0m\u001b[0margs\u001b[0m\u001b[1;33m,\u001b[0m \u001b[1;33m**\u001b[0m\u001b[0mkwargs\u001b[0m\u001b[1;33m)\u001b[0m\u001b[1;33m\u001b[0m\u001b[0m\n\u001b[0m\u001b[0;32m     56\u001b[0m         \u001b[1;32mfinally\u001b[0m\u001b[1;33m:\u001b[0m\u001b[1;33m\u001b[0m\u001b[0m\n\u001b[0;32m     57\u001b[0m             \u001b[1;32mif\u001b[0m \u001b[0martist\u001b[0m\u001b[1;33m.\u001b[0m\u001b[0mget_agg_filter\u001b[0m\u001b[1;33m(\u001b[0m\u001b[1;33m)\u001b[0m \u001b[1;32mis\u001b[0m \u001b[1;32mnot\u001b[0m \u001b[1;32mNone\u001b[0m\u001b[1;33m:\u001b[0m\u001b[1;33m\u001b[0m\u001b[0m\n",
      "\u001b[1;32mC:\\ProgramData\\Anaconda3\\lib\\site-packages\\matplotlib\\axes\\_base.py\u001b[0m in \u001b[0;36mdraw\u001b[1;34m(self, renderer, inframe)\u001b[0m\n\u001b[0;32m   2605\u001b[0m             \u001b[0mrenderer\u001b[0m\u001b[1;33m.\u001b[0m\u001b[0mstop_rasterizing\u001b[0m\u001b[1;33m(\u001b[0m\u001b[1;33m)\u001b[0m\u001b[1;33m\u001b[0m\u001b[0m\n\u001b[0;32m   2606\u001b[0m \u001b[1;33m\u001b[0m\u001b[0m\n\u001b[1;32m-> 2607\u001b[1;33m         \u001b[0mmimage\u001b[0m\u001b[1;33m.\u001b[0m\u001b[0m_draw_list_compositing_images\u001b[0m\u001b[1;33m(\u001b[0m\u001b[0mrenderer\u001b[0m\u001b[1;33m,\u001b[0m \u001b[0mself\u001b[0m\u001b[1;33m,\u001b[0m \u001b[0martists\u001b[0m\u001b[1;33m)\u001b[0m\u001b[1;33m\u001b[0m\u001b[0m\n\u001b[0m\u001b[0;32m   2608\u001b[0m \u001b[1;33m\u001b[0m\u001b[0m\n\u001b[0;32m   2609\u001b[0m         \u001b[0mrenderer\u001b[0m\u001b[1;33m.\u001b[0m\u001b[0mclose_group\u001b[0m\u001b[1;33m(\u001b[0m\u001b[1;34m'axes'\u001b[0m\u001b[1;33m)\u001b[0m\u001b[1;33m\u001b[0m\u001b[0m\n",
      "\u001b[1;32mC:\\ProgramData\\Anaconda3\\lib\\site-packages\\matplotlib\\image.py\u001b[0m in \u001b[0;36m_draw_list_compositing_images\u001b[1;34m(renderer, parent, artists, suppress_composite)\u001b[0m\n\u001b[0;32m    139\u001b[0m     \u001b[1;32mif\u001b[0m \u001b[0mnot_composite\u001b[0m \u001b[1;32mor\u001b[0m \u001b[1;32mnot\u001b[0m \u001b[0mhas_images\u001b[0m\u001b[1;33m:\u001b[0m\u001b[1;33m\u001b[0m\u001b[0m\n\u001b[0;32m    140\u001b[0m         \u001b[1;32mfor\u001b[0m \u001b[0ma\u001b[0m \u001b[1;32min\u001b[0m \u001b[0martists\u001b[0m\u001b[1;33m:\u001b[0m\u001b[1;33m\u001b[0m\u001b[0m\n\u001b[1;32m--> 141\u001b[1;33m             \u001b[0ma\u001b[0m\u001b[1;33m.\u001b[0m\u001b[0mdraw\u001b[0m\u001b[1;33m(\u001b[0m\u001b[0mrenderer\u001b[0m\u001b[1;33m)\u001b[0m\u001b[1;33m\u001b[0m\u001b[0m\n\u001b[0m\u001b[0;32m    142\u001b[0m     \u001b[1;32melse\u001b[0m\u001b[1;33m:\u001b[0m\u001b[1;33m\u001b[0m\u001b[0m\n\u001b[0;32m    143\u001b[0m         \u001b[1;31m# Composite any adjacent images together\u001b[0m\u001b[1;33m\u001b[0m\u001b[1;33m\u001b[0m\u001b[0m\n",
      "\u001b[1;32mC:\\ProgramData\\Anaconda3\\lib\\site-packages\\matplotlib\\artist.py\u001b[0m in \u001b[0;36mdraw_wrapper\u001b[1;34m(artist, renderer, *args, **kwargs)\u001b[0m\n\u001b[0;32m     53\u001b[0m                 \u001b[0mrenderer\u001b[0m\u001b[1;33m.\u001b[0m\u001b[0mstart_filter\u001b[0m\u001b[1;33m(\u001b[0m\u001b[1;33m)\u001b[0m\u001b[1;33m\u001b[0m\u001b[0m\n\u001b[0;32m     54\u001b[0m \u001b[1;33m\u001b[0m\u001b[0m\n\u001b[1;32m---> 55\u001b[1;33m             \u001b[1;32mreturn\u001b[0m \u001b[0mdraw\u001b[0m\u001b[1;33m(\u001b[0m\u001b[0martist\u001b[0m\u001b[1;33m,\u001b[0m \u001b[0mrenderer\u001b[0m\u001b[1;33m,\u001b[0m \u001b[1;33m*\u001b[0m\u001b[0margs\u001b[0m\u001b[1;33m,\u001b[0m \u001b[1;33m**\u001b[0m\u001b[0mkwargs\u001b[0m\u001b[1;33m)\u001b[0m\u001b[1;33m\u001b[0m\u001b[0m\n\u001b[0m\u001b[0;32m     56\u001b[0m         \u001b[1;32mfinally\u001b[0m\u001b[1;33m:\u001b[0m\u001b[1;33m\u001b[0m\u001b[0m\n\u001b[0;32m     57\u001b[0m             \u001b[1;32mif\u001b[0m \u001b[0martist\u001b[0m\u001b[1;33m.\u001b[0m\u001b[0mget_agg_filter\u001b[0m\u001b[1;33m(\u001b[0m\u001b[1;33m)\u001b[0m \u001b[1;32mis\u001b[0m \u001b[1;32mnot\u001b[0m \u001b[1;32mNone\u001b[0m\u001b[1;33m:\u001b[0m\u001b[1;33m\u001b[0m\u001b[0m\n",
      "\u001b[1;32mC:\\ProgramData\\Anaconda3\\lib\\site-packages\\matplotlib\\axis.py\u001b[0m in \u001b[0;36mdraw\u001b[1;34m(self, renderer, *args, **kwargs)\u001b[0m\n\u001b[0;32m   1190\u001b[0m         \u001b[0mticks_to_draw\u001b[0m \u001b[1;33m=\u001b[0m \u001b[0mself\u001b[0m\u001b[1;33m.\u001b[0m\u001b[0m_update_ticks\u001b[0m\u001b[1;33m(\u001b[0m\u001b[0mrenderer\u001b[0m\u001b[1;33m)\u001b[0m\u001b[1;33m\u001b[0m\u001b[0m\n\u001b[0;32m   1191\u001b[0m         ticklabelBoxes, ticklabelBoxes2 = self._get_tick_bboxes(ticks_to_draw,\n\u001b[1;32m-> 1192\u001b[1;33m                                                                 renderer)\n\u001b[0m\u001b[0;32m   1193\u001b[0m \u001b[1;33m\u001b[0m\u001b[0m\n\u001b[0;32m   1194\u001b[0m         \u001b[1;32mfor\u001b[0m \u001b[0mtick\u001b[0m \u001b[1;32min\u001b[0m \u001b[0mticks_to_draw\u001b[0m\u001b[1;33m:\u001b[0m\u001b[1;33m\u001b[0m\u001b[0m\n",
      "\u001b[1;32mC:\\ProgramData\\Anaconda3\\lib\\site-packages\\matplotlib\\axis.py\u001b[0m in \u001b[0;36m_get_tick_bboxes\u001b[1;34m(self, ticks, renderer)\u001b[0m\n\u001b[0;32m   1128\u001b[0m         \u001b[1;32mfor\u001b[0m \u001b[0mtick\u001b[0m \u001b[1;32min\u001b[0m \u001b[0mticks\u001b[0m\u001b[1;33m:\u001b[0m\u001b[1;33m\u001b[0m\u001b[0m\n\u001b[0;32m   1129\u001b[0m             \u001b[1;32mif\u001b[0m \u001b[0mtick\u001b[0m\u001b[1;33m.\u001b[0m\u001b[0mlabel1On\u001b[0m \u001b[1;32mand\u001b[0m \u001b[0mtick\u001b[0m\u001b[1;33m.\u001b[0m\u001b[0mlabel1\u001b[0m\u001b[1;33m.\u001b[0m\u001b[0mget_visible\u001b[0m\u001b[1;33m(\u001b[0m\u001b[1;33m)\u001b[0m\u001b[1;33m:\u001b[0m\u001b[1;33m\u001b[0m\u001b[0m\n\u001b[1;32m-> 1130\u001b[1;33m                 \u001b[0mextent\u001b[0m \u001b[1;33m=\u001b[0m \u001b[0mtick\u001b[0m\u001b[1;33m.\u001b[0m\u001b[0mlabel1\u001b[0m\u001b[1;33m.\u001b[0m\u001b[0mget_window_extent\u001b[0m\u001b[1;33m(\u001b[0m\u001b[0mrenderer\u001b[0m\u001b[1;33m)\u001b[0m\u001b[1;33m\u001b[0m\u001b[0m\n\u001b[0m\u001b[0;32m   1131\u001b[0m                 \u001b[0mticklabelBoxes\u001b[0m\u001b[1;33m.\u001b[0m\u001b[0mappend\u001b[0m\u001b[1;33m(\u001b[0m\u001b[0mextent\u001b[0m\u001b[1;33m)\u001b[0m\u001b[1;33m\u001b[0m\u001b[0m\n\u001b[0;32m   1132\u001b[0m             \u001b[1;32mif\u001b[0m \u001b[0mtick\u001b[0m\u001b[1;33m.\u001b[0m\u001b[0mlabel2On\u001b[0m \u001b[1;32mand\u001b[0m \u001b[0mtick\u001b[0m\u001b[1;33m.\u001b[0m\u001b[0mlabel2\u001b[0m\u001b[1;33m.\u001b[0m\u001b[0mget_visible\u001b[0m\u001b[1;33m(\u001b[0m\u001b[1;33m)\u001b[0m\u001b[1;33m:\u001b[0m\u001b[1;33m\u001b[0m\u001b[0m\n",
      "\u001b[1;32mC:\\ProgramData\\Anaconda3\\lib\\site-packages\\matplotlib\\text.py\u001b[0m in \u001b[0;36mget_window_extent\u001b[1;34m(self, renderer, dpi)\u001b[0m\n\u001b[0;32m    922\u001b[0m         \u001b[0mbbox\u001b[0m\u001b[1;33m,\u001b[0m \u001b[0minfo\u001b[0m\u001b[1;33m,\u001b[0m \u001b[0mdescent\u001b[0m \u001b[1;33m=\u001b[0m \u001b[0mself\u001b[0m\u001b[1;33m.\u001b[0m\u001b[0m_get_layout\u001b[0m\u001b[1;33m(\u001b[0m\u001b[0mself\u001b[0m\u001b[1;33m.\u001b[0m\u001b[0m_renderer\u001b[0m\u001b[1;33m)\u001b[0m\u001b[1;33m\u001b[0m\u001b[0m\n\u001b[0;32m    923\u001b[0m         \u001b[0mx\u001b[0m\u001b[1;33m,\u001b[0m \u001b[0my\u001b[0m \u001b[1;33m=\u001b[0m \u001b[0mself\u001b[0m\u001b[1;33m.\u001b[0m\u001b[0mget_unitless_position\u001b[0m\u001b[1;33m(\u001b[0m\u001b[1;33m)\u001b[0m\u001b[1;33m\u001b[0m\u001b[0m\n\u001b[1;32m--> 924\u001b[1;33m         \u001b[0mx\u001b[0m\u001b[1;33m,\u001b[0m \u001b[0my\u001b[0m \u001b[1;33m=\u001b[0m \u001b[0mself\u001b[0m\u001b[1;33m.\u001b[0m\u001b[0mget_transform\u001b[0m\u001b[1;33m(\u001b[0m\u001b[1;33m)\u001b[0m\u001b[1;33m.\u001b[0m\u001b[0mtransform_point\u001b[0m\u001b[1;33m(\u001b[0m\u001b[1;33m(\u001b[0m\u001b[0mx\u001b[0m\u001b[1;33m,\u001b[0m \u001b[0my\u001b[0m\u001b[1;33m)\u001b[0m\u001b[1;33m)\u001b[0m\u001b[1;33m\u001b[0m\u001b[0m\n\u001b[0m\u001b[0;32m    925\u001b[0m         \u001b[0mbbox\u001b[0m \u001b[1;33m=\u001b[0m \u001b[0mbbox\u001b[0m\u001b[1;33m.\u001b[0m\u001b[0mtranslated\u001b[0m\u001b[1;33m(\u001b[0m\u001b[0mx\u001b[0m\u001b[1;33m,\u001b[0m \u001b[0my\u001b[0m\u001b[1;33m)\u001b[0m\u001b[1;33m\u001b[0m\u001b[0m\n\u001b[0;32m    926\u001b[0m         \u001b[1;32mif\u001b[0m \u001b[0mdpi\u001b[0m \u001b[1;32mis\u001b[0m \u001b[1;32mnot\u001b[0m \u001b[1;32mNone\u001b[0m\u001b[1;33m:\u001b[0m\u001b[1;33m\u001b[0m\u001b[0m\n",
      "\u001b[1;32mC:\\ProgramData\\Anaconda3\\lib\\site-packages\\matplotlib\\transforms.py\u001b[0m in \u001b[0;36mtransform_point\u001b[1;34m(self, point)\u001b[0m\n\u001b[0;32m   1531\u001b[0m         \u001b[1;32mif\u001b[0m \u001b[0mlen\u001b[0m\u001b[1;33m(\u001b[0m\u001b[0mpoint\u001b[0m\u001b[1;33m)\u001b[0m \u001b[1;33m!=\u001b[0m \u001b[0mself\u001b[0m\u001b[1;33m.\u001b[0m\u001b[0minput_dims\u001b[0m\u001b[1;33m:\u001b[0m\u001b[1;33m\u001b[0m\u001b[0m\n\u001b[0;32m   1532\u001b[0m             \u001b[1;32mraise\u001b[0m \u001b[0mValueError\u001b[0m\u001b[1;33m(\u001b[0m\u001b[1;34m\"The length of 'point' must be 'self.input_dims'\"\u001b[0m\u001b[1;33m)\u001b[0m\u001b[1;33m\u001b[0m\u001b[0m\n\u001b[1;32m-> 1533\u001b[1;33m         \u001b[1;32mreturn\u001b[0m \u001b[0mself\u001b[0m\u001b[1;33m.\u001b[0m\u001b[0mtransform\u001b[0m\u001b[1;33m(\u001b[0m\u001b[0mnp\u001b[0m\u001b[1;33m.\u001b[0m\u001b[0masarray\u001b[0m\u001b[1;33m(\u001b[0m\u001b[1;33m[\u001b[0m\u001b[0mpoint\u001b[0m\u001b[1;33m]\u001b[0m\u001b[1;33m)\u001b[0m\u001b[1;33m)\u001b[0m\u001b[1;33m[\u001b[0m\u001b[1;36m0\u001b[0m\u001b[1;33m]\u001b[0m\u001b[1;33m\u001b[0m\u001b[0m\n\u001b[0m\u001b[0;32m   1534\u001b[0m \u001b[1;33m\u001b[0m\u001b[0m\n\u001b[0;32m   1535\u001b[0m     \u001b[1;32mdef\u001b[0m \u001b[0mtransform_path\u001b[0m\u001b[1;33m(\u001b[0m\u001b[0mself\u001b[0m\u001b[1;33m,\u001b[0m \u001b[0mpath\u001b[0m\u001b[1;33m)\u001b[0m\u001b[1;33m:\u001b[0m\u001b[1;33m\u001b[0m\u001b[0m\n",
      "\u001b[1;32mC:\\ProgramData\\Anaconda3\\lib\\site-packages\\matplotlib\\transforms.py\u001b[0m in \u001b[0;36mtransform\u001b[1;34m(self, values)\u001b[0m\n\u001b[0;32m   1444\u001b[0m \u001b[1;33m\u001b[0m\u001b[0m\n\u001b[0;32m   1445\u001b[0m         \u001b[1;31m# Transform the values\u001b[0m\u001b[1;33m\u001b[0m\u001b[1;33m\u001b[0m\u001b[0m\n\u001b[1;32m-> 1446\u001b[1;33m         \u001b[0mres\u001b[0m \u001b[1;33m=\u001b[0m \u001b[0mself\u001b[0m\u001b[1;33m.\u001b[0m\u001b[0mtransform_affine\u001b[0m\u001b[1;33m(\u001b[0m\u001b[0mself\u001b[0m\u001b[1;33m.\u001b[0m\u001b[0mtransform_non_affine\u001b[0m\u001b[1;33m(\u001b[0m\u001b[0mvalues\u001b[0m\u001b[1;33m)\u001b[0m\u001b[1;33m)\u001b[0m\u001b[1;33m\u001b[0m\u001b[0m\n\u001b[0m\u001b[0;32m   1447\u001b[0m \u001b[1;33m\u001b[0m\u001b[0m\n\u001b[0;32m   1448\u001b[0m         \u001b[1;31m# Convert the result back to the shape of the input values.\u001b[0m\u001b[1;33m\u001b[0m\u001b[1;33m\u001b[0m\u001b[0m\n",
      "\u001b[1;32mC:\\ProgramData\\Anaconda3\\lib\\site-packages\\matplotlib\\transforms.py\u001b[0m in \u001b[0;36mtransform_affine\u001b[1;34m(self, points)\u001b[0m\n\u001b[0;32m   2480\u001b[0m \u001b[1;33m\u001b[0m\u001b[0m\n\u001b[0;32m   2481\u001b[0m     \u001b[1;32mdef\u001b[0m \u001b[0mtransform_affine\u001b[0m\u001b[1;33m(\u001b[0m\u001b[0mself\u001b[0m\u001b[1;33m,\u001b[0m \u001b[0mpoints\u001b[0m\u001b[1;33m)\u001b[0m\u001b[1;33m:\u001b[0m\u001b[1;33m\u001b[0m\u001b[0m\n\u001b[1;32m-> 2482\u001b[1;33m         \u001b[1;32mreturn\u001b[0m \u001b[0mself\u001b[0m\u001b[1;33m.\u001b[0m\u001b[0mget_affine\u001b[0m\u001b[1;33m(\u001b[0m\u001b[1;33m)\u001b[0m\u001b[1;33m.\u001b[0m\u001b[0mtransform\u001b[0m\u001b[1;33m(\u001b[0m\u001b[0mpoints\u001b[0m\u001b[1;33m)\u001b[0m\u001b[1;33m\u001b[0m\u001b[0m\n\u001b[0m\u001b[0;32m   2483\u001b[0m     \u001b[0mtransform_affine\u001b[0m\u001b[1;33m.\u001b[0m\u001b[0m__doc__\u001b[0m \u001b[1;33m=\u001b[0m \u001b[0mTransform\u001b[0m\u001b[1;33m.\u001b[0m\u001b[0mtransform_affine\u001b[0m\u001b[1;33m.\u001b[0m\u001b[0m__doc__\u001b[0m\u001b[1;33m\u001b[0m\u001b[0m\n\u001b[0;32m   2484\u001b[0m \u001b[1;33m\u001b[0m\u001b[0m\n",
      "\u001b[1;32mC:\\ProgramData\\Anaconda3\\lib\\site-packages\\matplotlib\\transforms.py\u001b[0m in \u001b[0;36mget_affine\u001b[1;34m(self)\u001b[0m\n\u001b[0;32m   2508\u001b[0m         \u001b[1;32melse\u001b[0m\u001b[1;33m:\u001b[0m\u001b[1;33m\u001b[0m\u001b[0m\n\u001b[0;32m   2509\u001b[0m             return Affine2D(np.dot(self._b.get_affine().get_matrix(),\n\u001b[1;32m-> 2510\u001b[1;33m                                 self._a.get_affine().get_matrix()))\n\u001b[0m\u001b[0;32m   2511\u001b[0m     \u001b[0mget_affine\u001b[0m\u001b[1;33m.\u001b[0m\u001b[0m__doc__\u001b[0m \u001b[1;33m=\u001b[0m \u001b[0mTransform\u001b[0m\u001b[1;33m.\u001b[0m\u001b[0mget_affine\u001b[0m\u001b[1;33m.\u001b[0m\u001b[0m__doc__\u001b[0m\u001b[1;33m\u001b[0m\u001b[0m\n\u001b[0;32m   2512\u001b[0m \u001b[1;33m\u001b[0m\u001b[0m\n",
      "\u001b[1;31mKeyboardInterrupt\u001b[0m: "
     ]
    }
   ],
   "source": [
    "from tqdm import tqdm\n",
    "for i in tqdm(range(1000)):\n",
    "    rubik.complexity, rubik.limit = level, 2*level+1\n",
    "    levels.append(level)\n",
    "    \n",
    "    agent.play()\n",
    "    plot_with_levels(agent, levels, 20)\n",
    "    \n",
    "    if len(agent.rewards_log[checkpoint:]) > 30:\n",
    "        if (np.array(agent.rewards_log[checkpoint:][-100:]) >= -2*level - 1).mean() > 0.55:\n",
    "            level += 1\n",
    "            checkpoint = len(agent.rewards_log)\n",
    "        if level > 1 and (np.array(agent.rewards_log[checkpoint:][-100:]) >= -2*level - 1).mean() < 0.45:\n",
    "            level -= 1\n",
    "            checkpoint = len(agent.rewards_log)\n",
    "\n",
    "print('Complete')\n",
    "plt.show()"
   ]
  }
 ],
 "metadata": {
  "kernelspec": {
   "display_name": "Python 3",
   "language": "python",
   "name": "python3"
  },
  "language_info": {
   "codemirror_mode": {
    "name": "ipython",
    "version": 3
   },
   "file_extension": ".py",
   "mimetype": "text/x-python",
   "name": "python",
   "nbconvert_exporter": "python",
   "pygments_lexer": "ipython3",
   "version": "3.6.6"
  }
 },
 "nbformat": 4,
 "nbformat_minor": 2
}
